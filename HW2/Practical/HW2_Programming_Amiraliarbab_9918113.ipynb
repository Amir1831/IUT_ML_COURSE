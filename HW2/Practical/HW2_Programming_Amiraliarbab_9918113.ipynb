{
 "cells": [
  {
   "cell_type": "markdown",
   "metadata": {},
   "source": [
    "# AmirAliArbab - 9918113"
   ]
  },
  {
   "cell_type": "markdown",
   "metadata": {},
   "source": [
    "## Question 1"
   ]
  },
  {
   "cell_type": "code",
   "execution_count": 1,
   "metadata": {},
   "outputs": [],
   "source": [
    "# import libararies\n",
    "import pandas as pd \n",
    "import numpy as np\n",
    "import sklearn\n",
    "import matplotlib.pyplot as plt"
   ]
  },
  {
   "cell_type": "code",
   "execution_count": 2,
   "metadata": {},
   "outputs": [],
   "source": [
    "path = \"./data/car_data.csv\"\n",
    "df = pd.read_csv(path)"
   ]
  },
  {
   "cell_type": "markdown",
   "metadata": {},
   "source": [
    "### Visualize Data "
   ]
  },
  {
   "cell_type": "code",
   "execution_count": 3,
   "metadata": {},
   "outputs": [
    {
     "data": {
      "text/html": [
       "<div>\n",
       "<style scoped>\n",
       "    .dataframe tbody tr th:only-of-type {\n",
       "        vertical-align: middle;\n",
       "    }\n",
       "\n",
       "    .dataframe tbody tr th {\n",
       "        vertical-align: top;\n",
       "    }\n",
       "\n",
       "    .dataframe thead th {\n",
       "        text-align: right;\n",
       "    }\n",
       "</style>\n",
       "<table border=\"1\" class=\"dataframe\">\n",
       "  <thead>\n",
       "    <tr style=\"text-align: right;\">\n",
       "      <th></th>\n",
       "      <th>User ID</th>\n",
       "      <th>Gender</th>\n",
       "      <th>Age</th>\n",
       "      <th>AnnualSalary</th>\n",
       "      <th>Purchased</th>\n",
       "    </tr>\n",
       "  </thead>\n",
       "  <tbody>\n",
       "    <tr>\n",
       "      <th>0</th>\n",
       "      <td>385</td>\n",
       "      <td>Male</td>\n",
       "      <td>35</td>\n",
       "      <td>20000</td>\n",
       "      <td>0</td>\n",
       "    </tr>\n",
       "    <tr>\n",
       "      <th>1</th>\n",
       "      <td>681</td>\n",
       "      <td>Male</td>\n",
       "      <td>40</td>\n",
       "      <td>43500</td>\n",
       "      <td>0</td>\n",
       "    </tr>\n",
       "    <tr>\n",
       "      <th>2</th>\n",
       "      <td>353</td>\n",
       "      <td>Male</td>\n",
       "      <td>49</td>\n",
       "      <td>74000</td>\n",
       "      <td>0</td>\n",
       "    </tr>\n",
       "    <tr>\n",
       "      <th>3</th>\n",
       "      <td>895</td>\n",
       "      <td>Male</td>\n",
       "      <td>40</td>\n",
       "      <td>107500</td>\n",
       "      <td>1</td>\n",
       "    </tr>\n",
       "    <tr>\n",
       "      <th>4</th>\n",
       "      <td>661</td>\n",
       "      <td>Male</td>\n",
       "      <td>25</td>\n",
       "      <td>79000</td>\n",
       "      <td>0</td>\n",
       "    </tr>\n",
       "  </tbody>\n",
       "</table>\n",
       "</div>"
      ],
      "text/plain": [
       "   User ID Gender  Age  AnnualSalary  Purchased\n",
       "0      385   Male   35         20000          0\n",
       "1      681   Male   40         43500          0\n",
       "2      353   Male   49         74000          0\n",
       "3      895   Male   40        107500          1\n",
       "4      661   Male   25         79000          0"
      ]
     },
     "execution_count": 3,
     "metadata": {},
     "output_type": "execute_result"
    }
   ],
   "source": [
    "# show first 5 row\n",
    "df.head()"
   ]
  },
  {
   "cell_type": "code",
   "execution_count": 4,
   "metadata": {},
   "outputs": [
    {
     "data": {
      "text/plain": [
       "<AxesSubplot: ylabel='Frequency'>"
      ]
     },
     "execution_count": 4,
     "metadata": {},
     "output_type": "execute_result"
    },
    {
     "data": {
      "image/png": "[encoded data removed]",
      "text/plain": [
       "<Figure size 640x480 with 1 Axes>"
      ]
     },
     "metadata": {},
     "output_type": "display_data"
    }
   ],
   "source": [
    "# histogram for Age column\n",
    "df.Age.plot(kind=\"hist\")"
   ]
  },
  {
   "cell_type": "code",
   "execution_count": 5,
   "metadata": {},
   "outputs": [
    {
     "data": {
      "image/png": "[encoded data removed]",
      "text/plain": [
       "<Figure size 640x480 with 1 Axes>"
      ]
     },
     "metadata": {},
     "output_type": "display_data"
    }
   ],
   "source": [
    "# pie chart for Gender column\n",
    "df.Gender.value_counts().plot(kind=\"pie\");"
   ]
  },
  {
   "cell_type": "markdown",
   "metadata": {},
   "source": [
    "### Preprocessing"
   ]
  },
  {
   "cell_type": "code",
   "execution_count": 6,
   "metadata": {},
   "outputs": [
    {
     "name": "stdout",
     "output_type": "stream",
     "text": [
      "<class 'pandas.core.frame.DataFrame'>\n",
      "RangeIndex: 1000 entries, 0 to 999\n",
      "Data columns (total 5 columns):\n",
      " #   Column        Non-Null Count  Dtype \n",
      "---  ------        --------------  ----- \n",
      " 0   User ID       1000 non-null   int64 \n",
      " 1   Gender        1000 non-null   object\n",
      " 2   Age           1000 non-null   int64 \n",
      " 3   AnnualSalary  1000 non-null   int64 \n",
      " 4   Purchased     1000 non-null   int64 \n",
      "dtypes: int64(4), object(1)\n",
      "memory usage: 39.2+ KB\n"
     ]
    }
   ],
   "source": [
    "df.info()"
   ]
  },
  {
   "cell_type": "code",
   "execution_count": 7,
   "metadata": {},
   "outputs": [],
   "source": [
    "# Turn the Gender column to numerical values \n",
    "df = pd.concat([df.drop(columns=\"Gender\") , pd.get_dummies(df[\"Gender\"] ,prefix=\"Gender\" , prefix_sep=\"_\")] , axis=1)"
   ]
  },
  {
   "cell_type": "code",
   "execution_count": 8,
   "metadata": {},
   "outputs": [
    {
     "name": "stdout",
     "output_type": "stream",
     "text": [
      "<class 'pandas.core.frame.DataFrame'>\n",
      "RangeIndex: 1000 entries, 0 to 999\n",
      "Data columns (total 6 columns):\n",
      " #   Column         Non-Null Count  Dtype\n",
      "---  ------         --------------  -----\n",
      " 0   User ID        1000 non-null   int64\n",
      " 1   Age            1000 non-null   int64\n",
      " 2   AnnualSalary   1000 non-null   int64\n",
      " 3   Purchased      1000 non-null   int64\n",
      " 4   Gender_Female  1000 non-null   uint8\n",
      " 5   Gender_Male    1000 non-null   uint8\n",
      "dtypes: int64(4), uint8(2)\n",
      "memory usage: 33.3 KB\n"
     ]
    }
   ],
   "source": [
    "df.info()"
   ]
  },
  {
   "cell_type": "code",
   "execution_count": 9,
   "metadata": {},
   "outputs": [
    {
     "data": {
      "text/html": [
       "<div>\n",
       "<style scoped>\n",
       "    .dataframe tbody tr th:only-of-type {\n",
       "        vertical-align: middle;\n",
       "    }\n",
       "\n",
       "    .dataframe tbody tr th {\n",
       "        vertical-align: top;\n",
       "    }\n",
       "\n",
       "    .dataframe thead th {\n",
       "        text-align: right;\n",
       "    }\n",
       "</style>\n",
       "<table border=\"1\" class=\"dataframe\">\n",
       "  <thead>\n",
       "    <tr style=\"text-align: right;\">\n",
       "      <th></th>\n",
       "      <th>User ID</th>\n",
       "      <th>Age</th>\n",
       "      <th>AnnualSalary</th>\n",
       "      <th>Purchased</th>\n",
       "      <th>Gender_Female</th>\n",
       "      <th>Gender_Male</th>\n",
       "    </tr>\n",
       "  </thead>\n",
       "  <tbody>\n",
       "    <tr>\n",
       "      <th>0</th>\n",
       "      <td>385</td>\n",
       "      <td>35</td>\n",
       "      <td>20000</td>\n",
       "      <td>0</td>\n",
       "      <td>0</td>\n",
       "      <td>1</td>\n",
       "    </tr>\n",
       "    <tr>\n",
       "      <th>1</th>\n",
       "      <td>681</td>\n",
       "      <td>40</td>\n",
       "      <td>43500</td>\n",
       "      <td>0</td>\n",
       "      <td>0</td>\n",
       "      <td>1</td>\n",
       "    </tr>\n",
       "    <tr>\n",
       "      <th>2</th>\n",
       "      <td>353</td>\n",
       "      <td>49</td>\n",
       "      <td>74000</td>\n",
       "      <td>0</td>\n",
       "      <td>0</td>\n",
       "      <td>1</td>\n",
       "    </tr>\n",
       "    <tr>\n",
       "      <th>3</th>\n",
       "      <td>895</td>\n",
       "      <td>40</td>\n",
       "      <td>107500</td>\n",
       "      <td>1</td>\n",
       "      <td>0</td>\n",
       "      <td>1</td>\n",
       "    </tr>\n",
       "    <tr>\n",
       "      <th>4</th>\n",
       "      <td>661</td>\n",
       "      <td>25</td>\n",
       "      <td>79000</td>\n",
       "      <td>0</td>\n",
       "      <td>0</td>\n",
       "      <td>1</td>\n",
       "    </tr>\n",
       "    <tr>\n",
       "      <th>...</th>\n",
       "      <td>...</td>\n",
       "      <td>...</td>\n",
       "      <td>...</td>\n",
       "      <td>...</td>\n",
       "      <td>...</td>\n",
       "      <td>...</td>\n",
       "    </tr>\n",
       "    <tr>\n",
       "      <th>95</th>\n",
       "      <td>485</td>\n",
       "      <td>33</td>\n",
       "      <td>151500</td>\n",
       "      <td>1</td>\n",
       "      <td>1</td>\n",
       "      <td>0</td>\n",
       "    </tr>\n",
       "    <tr>\n",
       "      <th>96</th>\n",
       "      <td>960</td>\n",
       "      <td>45</td>\n",
       "      <td>75500</td>\n",
       "      <td>1</td>\n",
       "      <td>0</td>\n",
       "      <td>1</td>\n",
       "    </tr>\n",
       "    <tr>\n",
       "      <th>97</th>\n",
       "      <td>233</td>\n",
       "      <td>26</td>\n",
       "      <td>17000</td>\n",
       "      <td>0</td>\n",
       "      <td>1</td>\n",
       "      <td>0</td>\n",
       "    </tr>\n",
       "    <tr>\n",
       "      <th>98</th>\n",
       "      <td>191</td>\n",
       "      <td>30</td>\n",
       "      <td>87000</td>\n",
       "      <td>0</td>\n",
       "      <td>0</td>\n",
       "      <td>1</td>\n",
       "    </tr>\n",
       "    <tr>\n",
       "      <th>99</th>\n",
       "      <td>471</td>\n",
       "      <td>38</td>\n",
       "      <td>60500</td>\n",
       "      <td>0</td>\n",
       "      <td>0</td>\n",
       "      <td>1</td>\n",
       "    </tr>\n",
       "  </tbody>\n",
       "</table>\n",
       "<p>100 rows × 6 columns</p>\n",
       "</div>"
      ],
      "text/plain": [
       "    User ID  Age  AnnualSalary  Purchased  Gender_Female  Gender_Male\n",
       "0       385   35         20000          0              0            1\n",
       "1       681   40         43500          0              0            1\n",
       "2       353   49         74000          0              0            1\n",
       "3       895   40        107500          1              0            1\n",
       "4       661   25         79000          0              0            1\n",
       "..      ...  ...           ...        ...            ...          ...\n",
       "95      485   33        151500          1              1            0\n",
       "96      960   45         75500          1              0            1\n",
       "97      233   26         17000          0              1            0\n",
       "98      191   30         87000          0              0            1\n",
       "99      471   38         60500          0              0            1\n",
       "\n",
       "[100 rows x 6 columns]"
      ]
     },
     "execution_count": 9,
     "metadata": {},
     "output_type": "execute_result"
    }
   ],
   "source": [
    "df.head(100)"
   ]
  },
  {
   "cell_type": "markdown",
   "metadata": {},
   "source": [
    "### Drop User ID"
   ]
  },
  {
   "cell_type": "code",
   "execution_count": 10,
   "metadata": {},
   "outputs": [],
   "source": [
    "df = df.drop(columns=[\"User ID\"])"
   ]
  },
  {
   "cell_type": "markdown",
   "metadata": {},
   "source": [
    "### Split Data"
   ]
  },
  {
   "cell_type": "markdown",
   "metadata": {},
   "source": [
    "For preventing `Data Leakage` we first should split data into `train` & `test` sets then apply `fit`on train and then apply `Transform` on `train` and `test` sets . "
   ]
  },
  {
   "cell_type": "code",
   "execution_count": 11,
   "metadata": {},
   "outputs": [
    {
     "data": {
      "text/plain": [
       "((800, 4), (200, 4), (800,), (200,))"
      ]
     },
     "execution_count": 11,
     "metadata": {},
     "output_type": "execute_result"
    }
   ],
   "source": [
    "from sklearn.model_selection import train_test_split\n",
    "x_train , x_test , y_train , y_test = train_test_split(df.drop(columns=[\"Purchased\"]),df.Purchased , test_size=0.2  , random_state=42)\n",
    "x_train.shape , x_test.shape , y_train.shape , y_test.shape"
   ]
  },
  {
   "cell_type": "code",
   "execution_count": 12,
   "metadata": {},
   "outputs": [
    {
     "data": {
      "text/html": [
       "<div>\n",
       "<style scoped>\n",
       "    .dataframe tbody tr th:only-of-type {\n",
       "        vertical-align: middle;\n",
       "    }\n",
       "\n",
       "    .dataframe tbody tr th {\n",
       "        vertical-align: top;\n",
       "    }\n",
       "\n",
       "    .dataframe thead th {\n",
       "        text-align: right;\n",
       "    }\n",
       "</style>\n",
       "<table border=\"1\" class=\"dataframe\">\n",
       "  <thead>\n",
       "    <tr style=\"text-align: right;\">\n",
       "      <th></th>\n",
       "      <th>Age</th>\n",
       "      <th>AnnualSalary</th>\n",
       "      <th>Gender_Female</th>\n",
       "      <th>Gender_Male</th>\n",
       "    </tr>\n",
       "  </thead>\n",
       "  <tbody>\n",
       "    <tr>\n",
       "      <th>29</th>\n",
       "      <td>38</td>\n",
       "      <td>147500</td>\n",
       "      <td>1</td>\n",
       "      <td>0</td>\n",
       "    </tr>\n",
       "    <tr>\n",
       "      <th>535</th>\n",
       "      <td>59</td>\n",
       "      <td>24500</td>\n",
       "      <td>1</td>\n",
       "      <td>0</td>\n",
       "    </tr>\n",
       "    <tr>\n",
       "      <th>695</th>\n",
       "      <td>35</td>\n",
       "      <td>91000</td>\n",
       "      <td>0</td>\n",
       "      <td>1</td>\n",
       "    </tr>\n",
       "    <tr>\n",
       "      <th>557</th>\n",
       "      <td>43</td>\n",
       "      <td>76500</td>\n",
       "      <td>1</td>\n",
       "      <td>0</td>\n",
       "    </tr>\n",
       "    <tr>\n",
       "      <th>836</th>\n",
       "      <td>31</td>\n",
       "      <td>118000</td>\n",
       "      <td>1</td>\n",
       "      <td>0</td>\n",
       "    </tr>\n",
       "    <tr>\n",
       "      <th>...</th>\n",
       "      <td>...</td>\n",
       "      <td>...</td>\n",
       "      <td>...</td>\n",
       "      <td>...</td>\n",
       "    </tr>\n",
       "    <tr>\n",
       "      <th>106</th>\n",
       "      <td>36</td>\n",
       "      <td>56500</td>\n",
       "      <td>0</td>\n",
       "      <td>1</td>\n",
       "    </tr>\n",
       "    <tr>\n",
       "      <th>270</th>\n",
       "      <td>42</td>\n",
       "      <td>53000</td>\n",
       "      <td>1</td>\n",
       "      <td>0</td>\n",
       "    </tr>\n",
       "    <tr>\n",
       "      <th>860</th>\n",
       "      <td>37</td>\n",
       "      <td>33000</td>\n",
       "      <td>1</td>\n",
       "      <td>0</td>\n",
       "    </tr>\n",
       "    <tr>\n",
       "      <th>435</th>\n",
       "      <td>43</td>\n",
       "      <td>112000</td>\n",
       "      <td>1</td>\n",
       "      <td>0</td>\n",
       "    </tr>\n",
       "    <tr>\n",
       "      <th>102</th>\n",
       "      <td>26</td>\n",
       "      <td>80000</td>\n",
       "      <td>0</td>\n",
       "      <td>1</td>\n",
       "    </tr>\n",
       "  </tbody>\n",
       "</table>\n",
       "<p>800 rows × 4 columns</p>\n",
       "</div>"
      ],
      "text/plain": [
       "     Age  AnnualSalary  Gender_Female  Gender_Male\n",
       "29    38        147500              1            0\n",
       "535   59         24500              1            0\n",
       "695   35         91000              0            1\n",
       "557   43         76500              1            0\n",
       "836   31        118000              1            0\n",
       "..   ...           ...            ...          ...\n",
       "106   36         56500              0            1\n",
       "270   42         53000              1            0\n",
       "860   37         33000              1            0\n",
       "435   43        112000              1            0\n",
       "102   26         80000              0            1\n",
       "\n",
       "[800 rows x 4 columns]"
      ]
     },
     "execution_count": 12,
     "metadata": {},
     "output_type": "execute_result"
    }
   ],
   "source": [
    "x_train"
   ]
  },
  {
   "cell_type": "code",
   "execution_count": 13,
   "metadata": {},
   "outputs": [
    {
     "data": {
      "text/plain": [
       "((800, 4), (200, 4))"
      ]
     },
     "execution_count": 13,
     "metadata": {},
     "output_type": "execute_result"
    }
   ],
   "source": [
    "# Scale the features\n",
    "from sklearn.preprocessing import StandardScaler\n",
    "std_x = StandardScaler()\n",
    "# Fit the scaler\n",
    "x_train_norm = pd.DataFrame(std_x.fit_transform(x_train),columns=x_train.columns)\n",
    "x_test_norm = pd.DataFrame(std_x.transform(x_test),columns=x_test.columns)\n",
    "x_train_norm.shape , x_test_norm.shape"
   ]
  },
  {
   "cell_type": "code",
   "execution_count": 14,
   "metadata": {},
   "outputs": [
    {
     "data": {
      "text/html": [
       "<div>\n",
       "<style scoped>\n",
       "    .dataframe tbody tr th:only-of-type {\n",
       "        vertical-align: middle;\n",
       "    }\n",
       "\n",
       "    .dataframe tbody tr th {\n",
       "        vertical-align: top;\n",
       "    }\n",
       "\n",
       "    .dataframe thead th {\n",
       "        text-align: right;\n",
       "    }\n",
       "</style>\n",
       "<table border=\"1\" class=\"dataframe\">\n",
       "  <thead>\n",
       "    <tr style=\"text-align: right;\">\n",
       "      <th></th>\n",
       "      <th>Age</th>\n",
       "      <th>AnnualSalary</th>\n",
       "      <th>Gender_Female</th>\n",
       "      <th>Gender_Male</th>\n",
       "    </tr>\n",
       "  </thead>\n",
       "  <tbody>\n",
       "    <tr>\n",
       "      <th>0</th>\n",
       "      <td>-0.180280</td>\n",
       "      <td>2.152137</td>\n",
       "      <td>0.965592</td>\n",
       "      <td>-0.965592</td>\n",
       "    </tr>\n",
       "    <tr>\n",
       "      <th>1</th>\n",
       "      <td>1.782584</td>\n",
       "      <td>-1.407626</td>\n",
       "      <td>0.965592</td>\n",
       "      <td>-0.965592</td>\n",
       "    </tr>\n",
       "    <tr>\n",
       "      <th>2</th>\n",
       "      <td>-0.460689</td>\n",
       "      <td>0.516961</td>\n",
       "      <td>-1.035635</td>\n",
       "      <td>1.035635</td>\n",
       "    </tr>\n",
       "    <tr>\n",
       "      <th>3</th>\n",
       "      <td>0.287069</td>\n",
       "      <td>0.097315</td>\n",
       "      <td>0.965592</td>\n",
       "      <td>-0.965592</td>\n",
       "    </tr>\n",
       "    <tr>\n",
       "      <th>4</th>\n",
       "      <td>-0.834568</td>\n",
       "      <td>1.298373</td>\n",
       "      <td>0.965592</td>\n",
       "      <td>-0.965592</td>\n",
       "    </tr>\n",
       "    <tr>\n",
       "      <th>...</th>\n",
       "      <td>...</td>\n",
       "      <td>...</td>\n",
       "      <td>...</td>\n",
       "      <td>...</td>\n",
       "    </tr>\n",
       "    <tr>\n",
       "      <th>795</th>\n",
       "      <td>-0.367219</td>\n",
       "      <td>-0.481509</td>\n",
       "      <td>-1.035635</td>\n",
       "      <td>1.035635</td>\n",
       "    </tr>\n",
       "    <tr>\n",
       "      <th>796</th>\n",
       "      <td>0.193599</td>\n",
       "      <td>-0.582803</td>\n",
       "      <td>0.965592</td>\n",
       "      <td>-0.965592</td>\n",
       "    </tr>\n",
       "    <tr>\n",
       "      <th>797</th>\n",
       "      <td>-0.273749</td>\n",
       "      <td>-1.161626</td>\n",
       "      <td>0.965592</td>\n",
       "      <td>-0.965592</td>\n",
       "    </tr>\n",
       "    <tr>\n",
       "      <th>798</th>\n",
       "      <td>0.287069</td>\n",
       "      <td>1.124726</td>\n",
       "      <td>0.965592</td>\n",
       "      <td>-0.965592</td>\n",
       "    </tr>\n",
       "    <tr>\n",
       "      <th>799</th>\n",
       "      <td>-1.301916</td>\n",
       "      <td>0.198609</td>\n",
       "      <td>-1.035635</td>\n",
       "      <td>1.035635</td>\n",
       "    </tr>\n",
       "  </tbody>\n",
       "</table>\n",
       "<p>800 rows × 4 columns</p>\n",
       "</div>"
      ],
      "text/plain": [
       "          Age  AnnualSalary  Gender_Female  Gender_Male\n",
       "0   -0.180280      2.152137       0.965592    -0.965592\n",
       "1    1.782584     -1.407626       0.965592    -0.965592\n",
       "2   -0.460689      0.516961      -1.035635     1.035635\n",
       "3    0.287069      0.097315       0.965592    -0.965592\n",
       "4   -0.834568      1.298373       0.965592    -0.965592\n",
       "..        ...           ...            ...          ...\n",
       "795 -0.367219     -0.481509      -1.035635     1.035635\n",
       "796  0.193599     -0.582803       0.965592    -0.965592\n",
       "797 -0.273749     -1.161626       0.965592    -0.965592\n",
       "798  0.287069      1.124726       0.965592    -0.965592\n",
       "799 -1.301916      0.198609      -1.035635     1.035635\n",
       "\n",
       "[800 rows x 4 columns]"
      ]
     },
     "execution_count": 14,
     "metadata": {},
     "output_type": "execute_result"
    }
   ],
   "source": [
    "x_train_norm "
   ]
  },
  {
   "cell_type": "code",
   "execution_count": 15,
   "metadata": {},
   "outputs": [
    {
     "data": {
      "text/plain": [
       "((800, 4), (200, 4))"
      ]
     },
     "execution_count": 15,
     "metadata": {},
     "output_type": "execute_result"
    }
   ],
   "source": [
    "x_train_norm = x_train_norm.to_numpy()\n",
    "x_test_norm = x_test_norm.to_numpy()\n",
    "\n",
    "x_train_norm.shape , x_test_norm.shape"
   ]
  },
  {
   "cell_type": "code",
   "execution_count": 16,
   "metadata": {},
   "outputs": [
    {
     "data": {
      "text/plain": [
       "((800, 1), (200, 1))"
      ]
     },
     "execution_count": 16,
     "metadata": {},
     "output_type": "execute_result"
    }
   ],
   "source": [
    "y_train = np.expand_dims(y_train,axis=1)\n",
    "y_test = np.expand_dims(y_test , axis=1)\n",
    "y_train.shape , y_test.shape"
   ]
  },
  {
   "cell_type": "markdown",
   "metadata": {},
   "source": [
    "### Logistic Regression"
   ]
  },
  {
   "cell_type": "code",
   "execution_count": 17,
   "metadata": {},
   "outputs": [],
   "source": [
    "def ones(x):\n",
    "    return np.c_[np.ones(x.shape[0]),x]"
   ]
  },
  {
   "cell_type": "code",
   "execution_count": 18,
   "metadata": {},
   "outputs": [],
   "source": [
    "def sigmoid(x):\n",
    "    return (1.0/ (1 + np.exp(-x))).astype(np.float128)"
   ]
  },
  {
   "cell_type": "code",
   "execution_count": 19,
   "metadata": {},
   "outputs": [],
   "source": [
    "def cross_entropy(y , x , w):\n",
    "    y_hat = sigmoid(x.dot(w))\n",
    "    loss = y.T.dot(np.log(y_hat)) + (1-y).T.dot(np.log(1-y_hat))\n",
    "    loss /= len(x)\n",
    "    return np.squeeze(-loss)\n",
    "    \n",
    "    "
   ]
  },
  {
   "cell_type": "code",
   "execution_count": 20,
   "metadata": {},
   "outputs": [],
   "source": [
    "def accuracy(y_hat , y):\n",
    "    acc = float(np.equal(y_hat , y).sum() / len(y)) * 100\n",
    "    return acc"
   ]
  },
  {
   "cell_type": "code",
   "execution_count": 21,
   "metadata": {},
   "outputs": [],
   "source": [
    "def gradient_descent(y , x , w , gamma , Train):\n",
    "    loss = cross_entropy(y , x , w)\n",
    "    # calculate gradient\n",
    "    y_hat = sigmoid(x.dot(w))\n",
    "    if Train:\n",
    "        gradient = x.T.dot(y_hat - y)\n",
    "        w = w - (gamma * gradient)\n",
    "    acc = accuracy(y_hat.round() , y)\n",
    "    return acc , loss , w "
   ]
  },
  {
   "cell_type": "code",
   "execution_count": 22,
   "metadata": {},
   "outputs": [
    {
     "name": "stdout",
     "output_type": "stream",
     "text": [
      "Epoch : 0 | Train Loss : 0.6931 | Train Accuracy : 60.7500 | Test Loss : 0.4135 | Test Accuracy : 82.0000 | Lr : 0.01\n",
      "Epoch : 5 | Train Loss : 0.3668 | Train Accuracy : 82.7500 | Test Loss : 0.4158 | Test Accuracy : 77.0000 | Lr : 0.01\n",
      "Epoch : 10 | Train Loss : 0.3645 | Train Accuracy : 83.2500 | Test Loss : 0.4035 | Test Accuracy : 81.5000 | Lr : 0.01\n",
      "Epoch : 15 | Train Loss : 0.3640 | Train Accuracy : 82.8750 | Test Loss : 0.4080 | Test Accuracy : 80.0000 | Lr : 0.01\n",
      "Epoch : 20 | Train Loss : 0.3639 | Train Accuracy : 83.2500 | Test Loss : 0.4052 | Test Accuracy : 79.0000 | Lr : 0.01\n",
      "Epoch : 25 | Train Loss : 0.3639 | Train Accuracy : 82.5000 | Test Loss : 0.4066 | Test Accuracy : 80.0000 | Lr : 0.01\n",
      "Epoch : 30 | Train Loss : 0.3638 | Train Accuracy : 82.7500 | Test Loss : 0.4058 | Test Accuracy : 79.5000 | Lr : 0.01\n",
      "Epoch : 35 | Train Loss : 0.3638 | Train Accuracy : 82.6250 | Test Loss : 0.4062 | Test Accuracy : 80.0000 | Lr : 0.01\n",
      "Epoch : 40 | Train Loss : 0.3638 | Train Accuracy : 82.7500 | Test Loss : 0.4060 | Test Accuracy : 79.5000 | Lr : 0.01\n",
      "Epoch : 45 | Train Loss : 0.3638 | Train Accuracy : 82.7500 | Test Loss : 0.4061 | Test Accuracy : 79.5000 | Lr : 0.01\n",
      "________________________________________\n",
      "**Epoch 45 First EarlyStop Warning on thereshold 0.0001 on Test Loss\n",
      "Learning rate Reduced to 0.009000000000000001**\n",
      "________________________________________\n",
      "**Epoch 46 Second EarlyStop Warning on thereshold 0.0001 on Test Loss\n",
      "Learning rate Reduced to 0.008100000000000001**\n",
      "________________________________________\n",
      "**Epoch 47 Third EarlyStop Warning on thereshold 0.0001 on Test Loss\n",
      "Learning rate Reduced to 0.007290000000000001**\n"
     ]
    }
   ],
   "source": [
    "Epoch = 100_000\n",
    "# List for track loss and acc in Train dataset\n",
    "loss_T = []\n",
    "acc_T = []\n",
    "# List for track loss and acc in Test dataset\n",
    "loss_Te = []\n",
    "acc_Te = []\n",
    "# List for track weights\n",
    "w_T = []\n",
    "# List for trach epochs\n",
    "epochs = []\n",
    "# Learing rate & EarlyStop Thershold\n",
    "gamma = 0.01\n",
    "thershold_1 = 1e-4\n",
    "thershold_2 = 3\n",
    "CT = 0\n",
    "D = {\n",
    "    0 : \"First\",\n",
    "    1 : \"Second\",\n",
    "    2 : \"Third\"\n",
    "}\n",
    "# Initialize weights \n",
    "w = np.zeros((5,1))\n",
    "acc_best =  - np.inf\n",
    "index = 0\n",
    "for i in range(Epoch):\n",
    "    # Train model\n",
    "    accT , lossT , w = gradient_descent(y_train , ones(x_train_norm) , w ,gamma , Train = True) \n",
    "    acc_T.append(accT)\n",
    "    loss_T.append(lossT)\n",
    "    w_T.append(w)\n",
    "    # Test model\n",
    "    accTe , lossTe , w = gradient_descent(y_test , ones(x_test_norm) , w ,gamma , Train = False) \n",
    "    acc_Te.append(accTe)\n",
    "    loss_Te.append(lossTe)\n",
    "    epochs.append(i)\n",
    "    if i % 5 == 0 :\n",
    "        print(f\"Epoch : {i} | Train Loss : {lossT:.4f} | Train Accuracy : {accT:.4f} | Test Loss : {lossTe:.4f} | Test Accuracy : {accTe:.4f} | Lr : {gamma}\")\n",
    "\n",
    "    if acc_best < accTe :\n",
    "        acc_best = accTe\n",
    "        index = i    \n",
    "\n",
    "        \n",
    "    if len(loss_T) > 1 and np.abs(loss_Te[-1] - loss_Te[-2]) < thershold_1 :\n",
    "        gamma = gamma * 0.9\n",
    "        print(\"____\"*10)\n",
    "        print(f\"**Epoch {i} {D[CT]} EarlyStop Warning on thereshold {thershold_1} on Test Loss\")\n",
    "        print(f\"Learning rate Reduced to {gamma}**\")\n",
    "        CT += 1\n",
    "        if (CT == thershold_2):\n",
    "            break\n",
    "    else : \n",
    "        CT = 0    \n",
    "    "
   ]
  },
  {
   "cell_type": "code",
   "execution_count": 23,
   "metadata": {},
   "outputs": [
    {
     "data": {
      "text/plain": [
       "<matplotlib.legend.Legend at 0x7efc07874100>"
      ]
     },
     "execution_count": 23,
     "metadata": {},
     "output_type": "execute_result"
    },
    {
     "data": {
      "image/png": "[encoded data removed]",
      "text/plain": [
       "<Figure size 640x480 with 1 Axes>"
      ]
     },
     "metadata": {},
     "output_type": "display_data"
    },
    {
     "data": {
      "image/png": "[encoded data removed]",
      "text/plain": [
       "<Figure size 640x480 with 1 Axes>"
      ]
     },
     "metadata": {},
     "output_type": "display_data"
    }
   ],
   "source": [
    "plt.plot(epochs , loss_T , label=\"loss_Train\")\n",
    "plt.plot(epochs , loss_Te , label=\"loss_Test\")\n",
    "plt.legend()\n",
    "plt.figure()\n",
    "\n",
    "plt.plot(epochs , acc_T , label=\"acc_Train\")\n",
    "plt.plot(epochs , acc_Te , label=\"acc_Test\")\n",
    "plt.legend()"
   ]
  },
  {
   "cell_type": "markdown",
   "metadata": {},
   "source": [
    "### Visualize best weights"
   ]
  },
  {
   "cell_type": "code",
   "execution_count": 24,
   "metadata": {},
   "outputs": [
    {
     "data": {
      "text/html": [
       "<div>\n",
       "<style scoped>\n",
       "    .dataframe tbody tr th:only-of-type {\n",
       "        vertical-align: middle;\n",
       "    }\n",
       "\n",
       "    .dataframe tbody tr th {\n",
       "        vertical-align: top;\n",
       "    }\n",
       "\n",
       "    .dataframe thead th {\n",
       "        text-align: right;\n",
       "    }\n",
       "</style>\n",
       "<table border=\"1\" class=\"dataframe\">\n",
       "  <thead>\n",
       "    <tr style=\"text-align: right;\">\n",
       "      <th></th>\n",
       "      <th>Bias</th>\n",
       "      <th>Age</th>\n",
       "      <th>AnnualSalary</th>\n",
       "      <th>Gender_Female</th>\n",
       "      <th>Gender_Male</th>\n",
       "    </tr>\n",
       "  </thead>\n",
       "  <tbody>\n",
       "    <tr>\n",
       "      <th>0</th>\n",
       "      <td>-0.898011</td>\n",
       "      <td>2.422624</td>\n",
       "      <td>1.270522</td>\n",
       "      <td>-0.007267</td>\n",
       "      <td>0.007267</td>\n",
       "    </tr>\n",
       "  </tbody>\n",
       "</table>\n",
       "</div>"
      ],
      "text/plain": [
       "       Bias       Age  AnnualSalary  Gender_Female  Gender_Male\n",
       "0 -0.898011  2.422624      1.270522      -0.007267     0.007267"
      ]
     },
     "execution_count": 24,
     "metadata": {},
     "output_type": "execute_result"
    }
   ],
   "source": [
    "weights_df = pd.DataFrame(w_T[index].T,columns=[\"Bias\" , \"Age\" , \"AnnualSalary\" , \"Gender_Female\" , \"Gender_Male\"])\n",
    "weights_df"
   ]
  },
  {
   "cell_type": "code",
   "execution_count": 25,
   "metadata": {},
   "outputs": [
    {
     "data": {
      "image/png": "[encoded data removed]",
      "text/plain": [
       "<Figure size 640x480 with 1 Axes>"
      ]
     },
     "metadata": {},
     "output_type": "display_data"
    }
   ],
   "source": [
    "weights_df.T.plot(kind=\"bar\" , title=\"Weights on Bar\");"
   ]
  },
  {
   "cell_type": "markdown",
   "metadata": {},
   "source": [
    "### Interpretation for weights\n",
    "\n",
    "1.  `Bias`: -0.89801093\n",
    "\n",
    "This negative bias term indicates the model initially leans towards predicting the non-purchasing class (\"0\") before considering any features.\n",
    "\n",
    "2. `Age`: 2.42262357\n",
    "\n",
    "This strongly positive weight signifies that a higher age significantly increases the probability of predicting a purchase. In simpler terms, as age increases, the model becomes more confident that the individual is likely to purchase. This suggests that older individuals in our dataset may be more inclined to make purchases, either due to increased financial stability or life stage factors.\n",
    "\n",
    "3. `AnnualSalary`: 1.27052158\n",
    "\n",
    "This positive weight shows that a higher annual salary moderately increases the probability of predicting a purchase. However, its value is smaller than the Age weight, suggesting that while income contributes to the prediction, it has a less significant influence compared to age.\n",
    "\n",
    "4. `Gender Female`: -0.00726683\n",
    "\n",
    "This nearly -zero value implies that being female compared to male has practically no influence on the purchase prediction. This could mean that gender plays a minimal role in this specific dataset or that the model cannot clearly distinguish its effect due to other factors like age and income.\n",
    "\n",
    "5. `Gender Male`: 0.00726683\n",
    "\n",
    "This near zero value mirrored for males reinforces the conclusion that gender has a negligible impact on the purchase prediction in this model."
   ]
  },
  {
   "cell_type": "markdown",
   "metadata": {},
   "source": [
    "### Loss and accuracy on Test data "
   ]
  },
  {
   "cell_type": "code",
   "execution_count": 26,
   "metadata": {},
   "outputs": [
    {
     "data": {
      "text/plain": [
       "((200, 4), (200, 1))"
      ]
     },
     "execution_count": 26,
     "metadata": {},
     "output_type": "execute_result"
    }
   ],
   "source": [
    "x_test_norm.shape , y_test.shape"
   ]
  },
  {
   "cell_type": "code",
   "execution_count": 27,
   "metadata": {},
   "outputs": [],
   "source": [
    "pred_prob = sigmoid(ones(x_test_norm).dot(w_T[index]))\n",
    "y_hat = pred_prob.round()"
   ]
  },
  {
   "cell_type": "code",
   "execution_count": 28,
   "metadata": {},
   "outputs": [
    {
     "name": "stdout",
     "output_type": "stream",
     "text": [
      "The Accuracy on test data is : 82.5%\n"
     ]
    }
   ],
   "source": [
    "acc_test = accuracy(y_hat , y_test)\n",
    "print(f\"The Accuracy on test data is : {acc_test}%\")"
   ]
  },
  {
   "cell_type": "code",
   "execution_count": 29,
   "metadata": {},
   "outputs": [
    {
     "name": "stdout",
     "output_type": "stream",
     "text": [
      "The Loss on the test data : 0.40169897788154374\n"
     ]
    }
   ],
   "source": [
    "loss = cross_entropy(y_test , ones(x_test_norm) , w_T[index])\n",
    "print(f\"The Loss on the test data : {loss:}\")"
   ]
  },
  {
   "cell_type": "markdown",
   "metadata": {},
   "source": [
    "## Question 2 "
   ]
  },
  {
   "cell_type": "code",
   "execution_count": 30,
   "metadata": {},
   "outputs": [
    {
     "data": {
      "text/html": [
       "<div>\n",
       "<style scoped>\n",
       "    .dataframe tbody tr th:only-of-type {\n",
       "        vertical-align: middle;\n",
       "    }\n",
       "\n",
       "    .dataframe tbody tr th {\n",
       "        vertical-align: top;\n",
       "    }\n",
       "\n",
       "    .dataframe thead th {\n",
       "        text-align: right;\n",
       "    }\n",
       "</style>\n",
       "<table border=\"1\" class=\"dataframe\">\n",
       "  <thead>\n",
       "    <tr style=\"text-align: right;\">\n",
       "      <th></th>\n",
       "      <th>rownames</th>\n",
       "      <th>Gender</th>\n",
       "      <th>Bwt</th>\n",
       "      <th>Hwt</th>\n",
       "    </tr>\n",
       "  </thead>\n",
       "  <tbody>\n",
       "    <tr>\n",
       "      <th>0</th>\n",
       "      <td>1</td>\n",
       "      <td>F</td>\n",
       "      <td>2.0</td>\n",
       "      <td>7.0</td>\n",
       "    </tr>\n",
       "    <tr>\n",
       "      <th>1</th>\n",
       "      <td>2</td>\n",
       "      <td>F</td>\n",
       "      <td>2.0</td>\n",
       "      <td>7.4</td>\n",
       "    </tr>\n",
       "    <tr>\n",
       "      <th>2</th>\n",
       "      <td>3</td>\n",
       "      <td>F</td>\n",
       "      <td>2.0</td>\n",
       "      <td>9.5</td>\n",
       "    </tr>\n",
       "    <tr>\n",
       "      <th>3</th>\n",
       "      <td>4</td>\n",
       "      <td>F</td>\n",
       "      <td>2.1</td>\n",
       "      <td>7.2</td>\n",
       "    </tr>\n",
       "    <tr>\n",
       "      <th>4</th>\n",
       "      <td>5</td>\n",
       "      <td>F</td>\n",
       "      <td>2.1</td>\n",
       "      <td>7.3</td>\n",
       "    </tr>\n",
       "  </tbody>\n",
       "</table>\n",
       "</div>"
      ],
      "text/plain": [
       "   rownames Gender  Bwt  Hwt\n",
       "0         1      F  2.0  7.0\n",
       "1         2      F  2.0  7.4\n",
       "2         3      F  2.0  9.5\n",
       "3         4      F  2.1  7.2\n",
       "4         5      F  2.1  7.3"
      ]
     },
     "execution_count": 30,
     "metadata": {},
     "output_type": "execute_result"
    }
   ],
   "source": [
    "# Read data \n",
    "df = pd.read_csv(\"./data/cats.csv\")\n",
    "df.head()\n"
   ]
  },
  {
   "cell_type": "code",
   "execution_count": 31,
   "metadata": {},
   "outputs": [
    {
     "name": "stdout",
     "output_type": "stream",
     "text": [
      "<class 'pandas.core.frame.DataFrame'>\n",
      "RangeIndex: 144 entries, 0 to 143\n",
      "Data columns (total 4 columns):\n",
      " #   Column    Non-Null Count  Dtype  \n",
      "---  ------    --------------  -----  \n",
      " 0   rownames  144 non-null    int64  \n",
      " 1   Gender    144 non-null    object \n",
      " 2   Bwt       144 non-null    float64\n",
      " 3   Hwt       144 non-null    float64\n",
      "dtypes: float64(2), int64(1), object(1)\n",
      "memory usage: 4.6+ KB\n"
     ]
    }
   ],
   "source": [
    "df.info()"
   ]
  },
  {
   "cell_type": "markdown",
   "metadata": {},
   "source": [
    "### Preprocessing\n"
   ]
  },
  {
   "cell_type": "code",
   "execution_count": 32,
   "metadata": {},
   "outputs": [],
   "source": [
    "df = df.drop(columns=[\"rownames\"])"
   ]
  },
  {
   "cell_type": "code",
   "execution_count": 33,
   "metadata": {},
   "outputs": [],
   "source": [
    "# Turn the Gender column to numerical values \n",
    "df.Gender = df.Gender.replace([\"M\",\"F\"] , [1,0])\n"
   ]
  },
  {
   "cell_type": "code",
   "execution_count": 34,
   "metadata": {},
   "outputs": [
    {
     "data": {
      "text/html": [
       "<div>\n",
       "<style scoped>\n",
       "    .dataframe tbody tr th:only-of-type {\n",
       "        vertical-align: middle;\n",
       "    }\n",
       "\n",
       "    .dataframe tbody tr th {\n",
       "        vertical-align: top;\n",
       "    }\n",
       "\n",
       "    .dataframe thead th {\n",
       "        text-align: right;\n",
       "    }\n",
       "</style>\n",
       "<table border=\"1\" class=\"dataframe\">\n",
       "  <thead>\n",
       "    <tr style=\"text-align: right;\">\n",
       "      <th></th>\n",
       "      <th>Gender</th>\n",
       "      <th>Bwt</th>\n",
       "      <th>Hwt</th>\n",
       "    </tr>\n",
       "  </thead>\n",
       "  <tbody>\n",
       "    <tr>\n",
       "      <th>0</th>\n",
       "      <td>0</td>\n",
       "      <td>2.0</td>\n",
       "      <td>7.0</td>\n",
       "    </tr>\n",
       "    <tr>\n",
       "      <th>1</th>\n",
       "      <td>0</td>\n",
       "      <td>2.0</td>\n",
       "      <td>7.4</td>\n",
       "    </tr>\n",
       "    <tr>\n",
       "      <th>2</th>\n",
       "      <td>0</td>\n",
       "      <td>2.0</td>\n",
       "      <td>9.5</td>\n",
       "    </tr>\n",
       "    <tr>\n",
       "      <th>3</th>\n",
       "      <td>0</td>\n",
       "      <td>2.1</td>\n",
       "      <td>7.2</td>\n",
       "    </tr>\n",
       "    <tr>\n",
       "      <th>4</th>\n",
       "      <td>0</td>\n",
       "      <td>2.1</td>\n",
       "      <td>7.3</td>\n",
       "    </tr>\n",
       "  </tbody>\n",
       "</table>\n",
       "</div>"
      ],
      "text/plain": [
       "   Gender  Bwt  Hwt\n",
       "0       0  2.0  7.0\n",
       "1       0  2.0  7.4\n",
       "2       0  2.0  9.5\n",
       "3       0  2.1  7.2\n",
       "4       0  2.1  7.3"
      ]
     },
     "execution_count": 34,
     "metadata": {},
     "output_type": "execute_result"
    }
   ],
   "source": [
    "df.head()\n"
   ]
  },
  {
   "cell_type": "code",
   "execution_count": 35,
   "metadata": {},
   "outputs": [],
   "source": [
    "x_train , x_test , y_train , y_test = train_test_split(df.drop(columns=[\"Gender\"]), df[\"Gender\"] , test_size=0.2 , random_state=42)"
   ]
  },
  {
   "cell_type": "code",
   "execution_count": 36,
   "metadata": {},
   "outputs": [],
   "source": [
    "std = StandardScaler()\n",
    "x_train_norm = std.fit_transform(x_train)\n",
    "x_test_norm = std.transform(x_test)"
   ]
  },
  {
   "cell_type": "code",
   "execution_count": 37,
   "metadata": {},
   "outputs": [
    {
     "name": "stderr",
     "output_type": "stream",
     "text": [
      "/home/amir/anaconda3/lib/python3.9/site-packages/sklearn/base.py:450: UserWarning: X does not have valid feature names, but StandardScaler was fitted with feature names\n",
      "  warnings.warn(\n"
     ]
    },
    {
     "data": {
      "image/png": "[encoded data removed]",
      "text/plain": [
       "<Figure size 640x480 with 2 Axes>"
      ]
     },
     "metadata": {},
     "output_type": "display_data"
    }
   ],
   "source": [
    "fig , ax = plt.subplots(1,2)\n",
    "ax[0].set_title(\"Before Normalization\")\n",
    "ax[0].scatter(x = x_train.iloc[: , 1] , y = x_train.iloc[: , 0] , c = y_train)\n",
    "point = (x_train.Hwt.min(),x_train.Bwt.min())\n",
    "# print(point)\n",
    "ax[0].scatter( point[0] , point[1], c = \"r\")\n",
    "ax[1].set_title(\"After Normalization\")\n",
    "ax[1].scatter(x = x_train_norm[: , 1] , y = x_train_norm[: , 0] , c = y_train)\n",
    "point_tr = std.transform(np.flip(np.expand_dims(point,axis=0))).squeeze()\n",
    "# print(point_tr)\n",
    "ax[1].scatter(point_tr[1],point_tr[0], c = \"r\");"
   ]
  },
  {
   "cell_type": "markdown",
   "metadata": {},
   "source": [
    "As you can see every point transfrom in a constant manner and the distance between them are not change .  "
   ]
  },
  {
   "cell_type": "code",
   "execution_count": 38,
   "metadata": {},
   "outputs": [
    {
     "data": {
      "text/plain": [
       "array([1.e-02, 1.e-01, 1.e+00, 1.e+01, 1.e+02, 1.e+03, 1.e+04, 1.e+05])"
      ]
     },
     "execution_count": 38,
     "metadata": {},
     "output_type": "execute_result"
    }
   ],
   "source": [
    "C = np.logspace(-2 , 5 , 8)\n",
    "C"
   ]
  },
  {
   "cell_type": "code",
   "execution_count": 39,
   "metadata": {},
   "outputs": [
    {
     "data": {
      "text/plain": [
       "array([1.00000000e-06, 2.92864456e-06, 8.57695899e-06, 2.51188643e-05,\n",
       "       7.35642254e-05, 2.15443469e-04, 6.30957344e-04, 1.84784980e-03,\n",
       "       5.41169527e-03, 1.58489319e-02, 4.64158883e-02, 1.35935639e-01,\n",
       "       3.98107171e-01, 1.16591440e+00, 3.41454887e+00, 1.00000000e+01])"
      ]
     },
     "execution_count": 39,
     "metadata": {},
     "output_type": "execute_result"
    }
   ],
   "source": [
    "gamma = np.logspace(-6 , 1 , 16)\n",
    "gamma"
   ]
  },
  {
   "cell_type": "markdown",
   "metadata": {},
   "source": [
    "### Prediction using `SVM`"
   ]
  },
  {
   "cell_type": "code",
   "execution_count": 40,
   "metadata": {},
   "outputs": [],
   "source": [
    "from sklearn.svm import SVC\n"
   ]
  },
  {
   "cell_type": "code",
   "execution_count": 41,
   "metadata": {},
   "outputs": [],
   "source": [
    "def grid_search(C , gamma ,kernel, x_train = x_train_norm , y_train = y_train , x_test = x_test_norm , y_test = y_test):\n",
    "    best_acc = - np.inf\n",
    "    \n",
    "    for c in C :\n",
    "        for g in gamma : \n",
    "            # Create Svm\n",
    "            svm = SVC(C=c , gamma=g , kernel=kernel)\n",
    "            # Fit Svm\n",
    "            svm.fit(x_train , y_train)\n",
    "            # Find accuracy\n",
    "            acc = svm.score(x_train , y_train)\n",
    "            if(best_acc < acc):\n",
    "                best_acc = acc\n",
    "                best_C = c\n",
    "                best_gamma = g\n",
    "                best_model = svm\n",
    "                print(f\"BEST -> C : {c} gamma : {g} accuracy : {acc}\") \n",
    "\n",
    "    return best_acc , best_C , best_gamma , best_model\n"
   ]
  },
  {
   "cell_type": "code",
   "execution_count": 42,
   "metadata": {},
   "outputs": [
    {
     "name": "stdout",
     "output_type": "stream",
     "text": [
      "BEST -> C : 0.01 gamma : 1e-06 accuracy : 0.6695652173913044\n",
      "BEST -> C : 1.0 gamma : 0.04641588833612782 accuracy : 0.7565217391304347\n",
      "BEST -> C : 1.0 gamma : 0.1359356390878527 accuracy : 0.7652173913043478\n",
      "BEST -> C : 1.0 gamma : 0.3981071705534969 accuracy : 0.7913043478260869\n",
      "BEST -> C : 1.0 gamma : 1.165914401179831 accuracy : 0.8173913043478261\n",
      "BEST -> C : 1.0 gamma : 10.0 accuracy : 0.8782608695652174\n",
      "BEST -> C : 10.0 gamma : 10.0 accuracy : 0.9217391304347826\n",
      "BEST -> C : 100.0 gamma : 10.0 accuracy : 0.9565217391304348\n",
      "BEST -> C : 1000.0 gamma : 10.0 accuracy : 0.9739130434782609\n"
     ]
    }
   ],
   "source": [
    "rbf_acc , rbf_c , rbf_gamma , rbf_model = grid_search(C , gamma , kernel=\"rbf\")"
   ]
  },
  {
   "cell_type": "code",
   "execution_count": 43,
   "metadata": {},
   "outputs": [
    {
     "name": "stdout",
     "output_type": "stream",
     "text": [
      "BEST -> C : 0.01 gamma : 1e-06 accuracy : 0.6695652173913044\n",
      "BEST -> C : 0.1 gamma : 1e-06 accuracy : 0.7565217391304347\n",
      "BEST -> C : 1.0 gamma : 1e-06 accuracy : 0.7739130434782608\n",
      "BEST -> C : 10.0 gamma : 1e-06 accuracy : 0.7913043478260869\n"
     ]
    }
   ],
   "source": [
    "liner_acc , liner_c , liner_gamma , liner_model = grid_search(C , gamma , kernel=\"linear\")"
   ]
  },
  {
   "cell_type": "code",
   "execution_count": 44,
   "metadata": {},
   "outputs": [
    {
     "name": "stdout",
     "output_type": "stream",
     "text": [
      "Best C 1000.0 Best gamma 10.0 in rbf\n"
     ]
    }
   ],
   "source": [
    "print(f\"Best C {rbf_c} Best gamma {rbf_gamma} in rbf\")"
   ]
  },
  {
   "cell_type": "code",
   "execution_count": 44,
   "metadata": {},
   "outputs": [],
   "source": [
    "def make_meshgrid(x, y, h=.02):\n",
    "    x_min, x_max = x.min() - 1, x.max() + 1\n",
    "    y_min, y_max = y.min() - 1, y.max() + 1\n",
    "    xx, yy = np.meshgrid(np.arange(x_min, x_max, h), np.arange(y_min, y_max, h))\n",
    "    return xx, yy"
   ]
  },
  {
   "cell_type": "code",
   "execution_count": 45,
   "metadata": {},
   "outputs": [
    {
     "data": {
      "image/png": "[encoded data removed]",
      "text/plain": [
       "<Figure size 1000x500 with 2 Axes>"
      ]
     },
     "metadata": {},
     "output_type": "display_data"
    }
   ],
   "source": [
    "fig, ax = plt.subplots(1,2,figsize=(10,5))\n",
    "# title for the plots\n",
    "plt.title(\"Accuracy on train data\")\n",
    "# Set-up grid for plotting.\n",
    "X0, X1 = x_train_norm[:, 1], x_train_norm[:, 0]\n",
    "xx, yy = make_meshgrid(X0, X1)\n",
    "title = ('Decision surface of liner SVC ')\n",
    "Z = liner_model.predict(np.c_[xx.ravel(), yy.ravel()])\n",
    "Z = Z.reshape(xx.shape)\n",
    "ax[0].contourf(xx, yy, Z)\n",
    "ax[0].scatter(X0, X1, c=y_train, s=20, edgecolors='k')\n",
    "ax[0].set_ylabel('Bwt  here')\n",
    "ax[0].set_xlabel('Hwt  here')\n",
    "ax[0].set_xticks(())\n",
    "ax[0].set_yticks(())\n",
    "ax[0].set_title(title)\n",
    "# ax[0].legend()\n",
    "\n",
    "title = ('Decision surface of rbf SVC')\n",
    "Z = rbf_model.predict(np.c_[xx.ravel(), yy.ravel()])\n",
    "Z = Z.reshape(xx.shape)\n",
    "ax[1].contourf(xx, yy, Z)\n",
    "ax[1].scatter(X0, X1, c=y_train, s=20, edgecolors='k')\n",
    "ax[1].set_ylabel('Bwt  here')\n",
    "ax[1].set_xlabel('Hwt  here')\n",
    "ax[1].set_xticks(())\n",
    "ax[1].set_yticks(())\n",
    "ax[1].set_title(title)\n",
    "# ax[1].legend();\n",
    "plt.show();"
   ]
  },
  {
   "cell_type": "markdown",
   "metadata": {},
   "source": [
    "as you can see `rbf` clf is much better than linear clf"
   ]
  },
  {
   "cell_type": "code",
   "execution_count": 46,
   "metadata": {},
   "outputs": [
    {
     "name": "stdout",
     "output_type": "stream",
     "text": [
      "Best model accuracy on the test data 0.6551724137931034\n"
     ]
    }
   ],
   "source": [
    "print(f\"Best model accuracy on the test data {rbf_model.score(x_test_norm , y_test)}\")"
   ]
  },
  {
   "cell_type": "code",
   "execution_count": null,
   "metadata": {},
   "outputs": [],
   "source": []
  }
 ],
 "metadata": {
  "kernelspec": {
   "display_name": "Python 3 (ipykernel)",
   "language": "python",
   "name": "python3"
  },
  "language_info": {
   "codemirror_mode": {
    "name": "ipython",
    "version": 3
   },
   "file_extension": ".py",
   "mimetype": "text/x-python",
   "name": "python",
   "nbconvert_exporter": "python",
   "pygments_lexer": "ipython3",
   "version": "3.9.12"
  }
 },
 "nbformat": 4,
 "nbformat_minor": 2
}
