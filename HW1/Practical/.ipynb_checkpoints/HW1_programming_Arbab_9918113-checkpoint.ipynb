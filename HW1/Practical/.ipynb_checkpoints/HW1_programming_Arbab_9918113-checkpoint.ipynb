{
 "cells": [
  {
   "cell_type": "markdown",
   "id": "de5d2c57",
   "metadata": {},
   "source": [
    "> # AMIR ALI ARBAB  - 9918113"
   ]
  },
  {
   "cell_type": "markdown",
   "id": "a23757ba",
   "metadata": {},
   "source": [
    "## Question 1"
   ]
  },
  {
   "cell_type": "markdown",
   "id": "aa94177e",
   "metadata": {},
   "source": [
    "## Read data"
   ]
  },
  {
   "cell_type": "code",
   "execution_count": 308,
   "id": "8752adf5",
   "metadata": {},
   "outputs": [],
   "source": [
    "import pandas as pd\n",
    "import numpy as np\n",
    "import matplotlib.pyplot as plt "
   ]
  },
  {
   "cell_type": "code",
   "execution_count": 309,
   "id": "2015c449",
   "metadata": {},
   "outputs": [
    {
     "data": {
      "text/html": [
       "<div>\n",
       "<style scoped>\n",
       "    .dataframe tbody tr th:only-of-type {\n",
       "        vertical-align: middle;\n",
       "    }\n",
       "\n",
       "    .dataframe tbody tr th {\n",
       "        vertical-align: top;\n",
       "    }\n",
       "\n",
       "    .dataframe thead th {\n",
       "        text-align: right;\n",
       "    }\n",
       "</style>\n",
       "<table border=\"1\" class=\"dataframe\">\n",
       "  <thead>\n",
       "    <tr style=\"text-align: right;\">\n",
       "      <th></th>\n",
       "      <th>area</th>\n",
       "      <th>bedrooms</th>\n",
       "      <th>bathrooms</th>\n",
       "      <th>stories</th>\n",
       "      <th>mainroad</th>\n",
       "      <th>guestroom</th>\n",
       "      <th>basement</th>\n",
       "      <th>parking</th>\n",
       "      <th>price</th>\n",
       "    </tr>\n",
       "  </thead>\n",
       "  <tbody>\n",
       "    <tr>\n",
       "      <th>0</th>\n",
       "      <td>7420</td>\n",
       "      <td>4</td>\n",
       "      <td>2</td>\n",
       "      <td>3</td>\n",
       "      <td>1</td>\n",
       "      <td>0</td>\n",
       "      <td>0</td>\n",
       "      <td>2</td>\n",
       "      <td>791000</td>\n",
       "    </tr>\n",
       "    <tr>\n",
       "      <th>1</th>\n",
       "      <td>8960</td>\n",
       "      <td>4</td>\n",
       "      <td>4</td>\n",
       "      <td>4</td>\n",
       "      <td>1</td>\n",
       "      <td>0</td>\n",
       "      <td>0</td>\n",
       "      <td>3</td>\n",
       "      <td>919000</td>\n",
       "    </tr>\n",
       "    <tr>\n",
       "      <th>2</th>\n",
       "      <td>9960</td>\n",
       "      <td>3</td>\n",
       "      <td>2</td>\n",
       "      <td>2</td>\n",
       "      <td>1</td>\n",
       "      <td>0</td>\n",
       "      <td>1</td>\n",
       "      <td>2</td>\n",
       "      <td>994000</td>\n",
       "    </tr>\n",
       "    <tr>\n",
       "      <th>3</th>\n",
       "      <td>7500</td>\n",
       "      <td>4</td>\n",
       "      <td>2</td>\n",
       "      <td>2</td>\n",
       "      <td>1</td>\n",
       "      <td>0</td>\n",
       "      <td>1</td>\n",
       "      <td>3</td>\n",
       "      <td>811000</td>\n",
       "    </tr>\n",
       "    <tr>\n",
       "      <th>4</th>\n",
       "      <td>7420</td>\n",
       "      <td>4</td>\n",
       "      <td>1</td>\n",
       "      <td>2</td>\n",
       "      <td>1</td>\n",
       "      <td>1</td>\n",
       "      <td>1</td>\n",
       "      <td>2</td>\n",
       "      <td>801000</td>\n",
       "    </tr>\n",
       "    <tr>\n",
       "      <th>...</th>\n",
       "      <td>...</td>\n",
       "      <td>...</td>\n",
       "      <td>...</td>\n",
       "      <td>...</td>\n",
       "      <td>...</td>\n",
       "      <td>...</td>\n",
       "      <td>...</td>\n",
       "      <td>...</td>\n",
       "      <td>...</td>\n",
       "    </tr>\n",
       "    <tr>\n",
       "      <th>540</th>\n",
       "      <td>3000</td>\n",
       "      <td>2</td>\n",
       "      <td>1</td>\n",
       "      <td>1</td>\n",
       "      <td>1</td>\n",
       "      <td>0</td>\n",
       "      <td>1</td>\n",
       "      <td>2</td>\n",
       "      <td>474000</td>\n",
       "    </tr>\n",
       "    <tr>\n",
       "      <th>541</th>\n",
       "      <td>2400</td>\n",
       "      <td>3</td>\n",
       "      <td>1</td>\n",
       "      <td>1</td>\n",
       "      <td>0</td>\n",
       "      <td>0</td>\n",
       "      <td>0</td>\n",
       "      <td>0</td>\n",
       "      <td>373000</td>\n",
       "    </tr>\n",
       "    <tr>\n",
       "      <th>542</th>\n",
       "      <td>3620</td>\n",
       "      <td>2</td>\n",
       "      <td>1</td>\n",
       "      <td>1</td>\n",
       "      <td>1</td>\n",
       "      <td>0</td>\n",
       "      <td>0</td>\n",
       "      <td>0</td>\n",
       "      <td>471000</td>\n",
       "    </tr>\n",
       "    <tr>\n",
       "      <th>543</th>\n",
       "      <td>2910</td>\n",
       "      <td>3</td>\n",
       "      <td>1</td>\n",
       "      <td>1</td>\n",
       "      <td>0</td>\n",
       "      <td>0</td>\n",
       "      <td>0</td>\n",
       "      <td>0</td>\n",
       "      <td>402000</td>\n",
       "    </tr>\n",
       "    <tr>\n",
       "      <th>544</th>\n",
       "      <td>3850</td>\n",
       "      <td>3</td>\n",
       "      <td>1</td>\n",
       "      <td>2</td>\n",
       "      <td>1</td>\n",
       "      <td>0</td>\n",
       "      <td>0</td>\n",
       "      <td>0</td>\n",
       "      <td>499000</td>\n",
       "    </tr>\n",
       "  </tbody>\n",
       "</table>\n",
       "<p>545 rows × 9 columns</p>\n",
       "</div>"
      ],
      "text/plain": [
       "     area  bedrooms  bathrooms  stories  mainroad  guestroom  basement  \\\n",
       "0    7420         4          2        3         1          0         0   \n",
       "1    8960         4          4        4         1          0         0   \n",
       "2    9960         3          2        2         1          0         1   \n",
       "3    7500         4          2        2         1          0         1   \n",
       "4    7420         4          1        2         1          1         1   \n",
       "..    ...       ...        ...      ...       ...        ...       ...   \n",
       "540  3000         2          1        1         1          0         1   \n",
       "541  2400         3          1        1         0          0         0   \n",
       "542  3620         2          1        1         1          0         0   \n",
       "543  2910         3          1        1         0          0         0   \n",
       "544  3850         3          1        2         1          0         0   \n",
       "\n",
       "     parking   price  \n",
       "0          2  791000  \n",
       "1          3  919000  \n",
       "2          2  994000  \n",
       "3          3  811000  \n",
       "4          2  801000  \n",
       "..       ...     ...  \n",
       "540        2  474000  \n",
       "541        0  373000  \n",
       "542        0  471000  \n",
       "543        0  402000  \n",
       "544        0  499000  \n",
       "\n",
       "[545 rows x 9 columns]"
      ]
     },
     "execution_count": 309,
     "metadata": {},
     "output_type": "execute_result"
    }
   ],
   "source": [
    "df = pd.read_csv(\"./data/house_prices.csv\")\n",
    "df"
   ]
  },
  {
   "cell_type": "code",
   "execution_count": 310,
   "id": "1b8b5088",
   "metadata": {},
   "outputs": [
    {
     "data": {
      "text/html": [
       "<div>\n",
       "<style scoped>\n",
       "    .dataframe tbody tr th:only-of-type {\n",
       "        vertical-align: middle;\n",
       "    }\n",
       "\n",
       "    .dataframe tbody tr th {\n",
       "        vertical-align: top;\n",
       "    }\n",
       "\n",
       "    .dataframe thead th {\n",
       "        text-align: right;\n",
       "    }\n",
       "</style>\n",
       "<table border=\"1\" class=\"dataframe\">\n",
       "  <thead>\n",
       "    <tr style=\"text-align: right;\">\n",
       "      <th></th>\n",
       "      <th>area</th>\n",
       "      <th>bedrooms</th>\n",
       "      <th>bathrooms</th>\n",
       "      <th>stories</th>\n",
       "      <th>mainroad</th>\n",
       "      <th>guestroom</th>\n",
       "      <th>basement</th>\n",
       "      <th>parking</th>\n",
       "    </tr>\n",
       "  </thead>\n",
       "  <tbody>\n",
       "    <tr>\n",
       "      <th>0</th>\n",
       "      <td>7420</td>\n",
       "      <td>4</td>\n",
       "      <td>2</td>\n",
       "      <td>3</td>\n",
       "      <td>1</td>\n",
       "      <td>0</td>\n",
       "      <td>0</td>\n",
       "      <td>2</td>\n",
       "    </tr>\n",
       "    <tr>\n",
       "      <th>1</th>\n",
       "      <td>8960</td>\n",
       "      <td>4</td>\n",
       "      <td>4</td>\n",
       "      <td>4</td>\n",
       "      <td>1</td>\n",
       "      <td>0</td>\n",
       "      <td>0</td>\n",
       "      <td>3</td>\n",
       "    </tr>\n",
       "    <tr>\n",
       "      <th>2</th>\n",
       "      <td>9960</td>\n",
       "      <td>3</td>\n",
       "      <td>2</td>\n",
       "      <td>2</td>\n",
       "      <td>1</td>\n",
       "      <td>0</td>\n",
       "      <td>1</td>\n",
       "      <td>2</td>\n",
       "    </tr>\n",
       "    <tr>\n",
       "      <th>3</th>\n",
       "      <td>7500</td>\n",
       "      <td>4</td>\n",
       "      <td>2</td>\n",
       "      <td>2</td>\n",
       "      <td>1</td>\n",
       "      <td>0</td>\n",
       "      <td>1</td>\n",
       "      <td>3</td>\n",
       "    </tr>\n",
       "    <tr>\n",
       "      <th>4</th>\n",
       "      <td>7420</td>\n",
       "      <td>4</td>\n",
       "      <td>1</td>\n",
       "      <td>2</td>\n",
       "      <td>1</td>\n",
       "      <td>1</td>\n",
       "      <td>1</td>\n",
       "      <td>2</td>\n",
       "    </tr>\n",
       "    <tr>\n",
       "      <th>...</th>\n",
       "      <td>...</td>\n",
       "      <td>...</td>\n",
       "      <td>...</td>\n",
       "      <td>...</td>\n",
       "      <td>...</td>\n",
       "      <td>...</td>\n",
       "      <td>...</td>\n",
       "      <td>...</td>\n",
       "    </tr>\n",
       "    <tr>\n",
       "      <th>540</th>\n",
       "      <td>3000</td>\n",
       "      <td>2</td>\n",
       "      <td>1</td>\n",
       "      <td>1</td>\n",
       "      <td>1</td>\n",
       "      <td>0</td>\n",
       "      <td>1</td>\n",
       "      <td>2</td>\n",
       "    </tr>\n",
       "    <tr>\n",
       "      <th>541</th>\n",
       "      <td>2400</td>\n",
       "      <td>3</td>\n",
       "      <td>1</td>\n",
       "      <td>1</td>\n",
       "      <td>0</td>\n",
       "      <td>0</td>\n",
       "      <td>0</td>\n",
       "      <td>0</td>\n",
       "    </tr>\n",
       "    <tr>\n",
       "      <th>542</th>\n",
       "      <td>3620</td>\n",
       "      <td>2</td>\n",
       "      <td>1</td>\n",
       "      <td>1</td>\n",
       "      <td>1</td>\n",
       "      <td>0</td>\n",
       "      <td>0</td>\n",
       "      <td>0</td>\n",
       "    </tr>\n",
       "    <tr>\n",
       "      <th>543</th>\n",
       "      <td>2910</td>\n",
       "      <td>3</td>\n",
       "      <td>1</td>\n",
       "      <td>1</td>\n",
       "      <td>0</td>\n",
       "      <td>0</td>\n",
       "      <td>0</td>\n",
       "      <td>0</td>\n",
       "    </tr>\n",
       "    <tr>\n",
       "      <th>544</th>\n",
       "      <td>3850</td>\n",
       "      <td>3</td>\n",
       "      <td>1</td>\n",
       "      <td>2</td>\n",
       "      <td>1</td>\n",
       "      <td>0</td>\n",
       "      <td>0</td>\n",
       "      <td>0</td>\n",
       "    </tr>\n",
       "  </tbody>\n",
       "</table>\n",
       "<p>545 rows × 8 columns</p>\n",
       "</div>"
      ],
      "text/plain": [
       "     area  bedrooms  bathrooms  stories  mainroad  guestroom  basement  \\\n",
       "0    7420         4          2        3         1          0         0   \n",
       "1    8960         4          4        4         1          0         0   \n",
       "2    9960         3          2        2         1          0         1   \n",
       "3    7500         4          2        2         1          0         1   \n",
       "4    7420         4          1        2         1          1         1   \n",
       "..    ...       ...        ...      ...       ...        ...       ...   \n",
       "540  3000         2          1        1         1          0         1   \n",
       "541  2400         3          1        1         0          0         0   \n",
       "542  3620         2          1        1         1          0         0   \n",
       "543  2910         3          1        1         0          0         0   \n",
       "544  3850         3          1        2         1          0         0   \n",
       "\n",
       "     parking  \n",
       "0          2  \n",
       "1          3  \n",
       "2          2  \n",
       "3          3  \n",
       "4          2  \n",
       "..       ...  \n",
       "540        2  \n",
       "541        0  \n",
       "542        0  \n",
       "543        0  \n",
       "544        0  \n",
       "\n",
       "[545 rows x 8 columns]"
      ]
     },
     "execution_count": 310,
     "metadata": {},
     "output_type": "execute_result"
    }
   ],
   "source": [
    "x = df.drop(columns=[\"price\"])\n",
    "x"
   ]
  },
  {
   "cell_type": "code",
   "execution_count": 311,
   "id": "de17d734",
   "metadata": {},
   "outputs": [
    {
     "data": {
      "text/plain": [
       "0      791000\n",
       "1      919000\n",
       "2      994000\n",
       "3      811000\n",
       "4      801000\n",
       "        ...  \n",
       "540    474000\n",
       "541    373000\n",
       "542    471000\n",
       "543    402000\n",
       "544    499000\n",
       "Name: price, Length: 545, dtype: int64"
      ]
     },
     "execution_count": 311,
     "metadata": {},
     "output_type": "execute_result"
    }
   ],
   "source": [
    "y = df[\"price\"]\n",
    "y"
   ]
  },
  {
   "cell_type": "markdown",
   "id": "8318ebd9",
   "metadata": {},
   "source": [
    "## Normalize data "
   ]
  },
  {
   "cell_type": "code",
   "execution_count": 312,
   "id": "75faaecc",
   "metadata": {},
   "outputs": [
    {
     "data": {
      "text/html": [
       "<div>\n",
       "<style scoped>\n",
       "    .dataframe tbody tr th:only-of-type {\n",
       "        vertical-align: middle;\n",
       "    }\n",
       "\n",
       "    .dataframe tbody tr th {\n",
       "        vertical-align: top;\n",
       "    }\n",
       "\n",
       "    .dataframe thead th {\n",
       "        text-align: right;\n",
       "    }\n",
       "</style>\n",
       "<table border=\"1\" class=\"dataframe\">\n",
       "  <thead>\n",
       "    <tr style=\"text-align: right;\">\n",
       "      <th></th>\n",
       "      <th>0</th>\n",
       "      <th>1</th>\n",
       "      <th>2</th>\n",
       "      <th>3</th>\n",
       "      <th>4</th>\n",
       "      <th>5</th>\n",
       "      <th>6</th>\n",
       "      <th>7</th>\n",
       "    </tr>\n",
       "  </thead>\n",
       "  <tbody>\n",
       "    <tr>\n",
       "      <th>0</th>\n",
       "      <td>0.396564</td>\n",
       "      <td>0.6</td>\n",
       "      <td>0.333333</td>\n",
       "      <td>0.666667</td>\n",
       "      <td>1.0</td>\n",
       "      <td>0.0</td>\n",
       "      <td>0.0</td>\n",
       "      <td>0.666667</td>\n",
       "    </tr>\n",
       "    <tr>\n",
       "      <th>1</th>\n",
       "      <td>0.502405</td>\n",
       "      <td>0.6</td>\n",
       "      <td>1.000000</td>\n",
       "      <td>1.000000</td>\n",
       "      <td>1.0</td>\n",
       "      <td>0.0</td>\n",
       "      <td>0.0</td>\n",
       "      <td>1.000000</td>\n",
       "    </tr>\n",
       "    <tr>\n",
       "      <th>2</th>\n",
       "      <td>0.571134</td>\n",
       "      <td>0.4</td>\n",
       "      <td>0.333333</td>\n",
       "      <td>0.333333</td>\n",
       "      <td>1.0</td>\n",
       "      <td>0.0</td>\n",
       "      <td>1.0</td>\n",
       "      <td>0.666667</td>\n",
       "    </tr>\n",
       "    <tr>\n",
       "      <th>3</th>\n",
       "      <td>0.402062</td>\n",
       "      <td>0.6</td>\n",
       "      <td>0.333333</td>\n",
       "      <td>0.333333</td>\n",
       "      <td>1.0</td>\n",
       "      <td>0.0</td>\n",
       "      <td>1.0</td>\n",
       "      <td>1.000000</td>\n",
       "    </tr>\n",
       "    <tr>\n",
       "      <th>4</th>\n",
       "      <td>0.396564</td>\n",
       "      <td>0.6</td>\n",
       "      <td>0.000000</td>\n",
       "      <td>0.333333</td>\n",
       "      <td>1.0</td>\n",
       "      <td>1.0</td>\n",
       "      <td>1.0</td>\n",
       "      <td>0.666667</td>\n",
       "    </tr>\n",
       "    <tr>\n",
       "      <th>...</th>\n",
       "      <td>...</td>\n",
       "      <td>...</td>\n",
       "      <td>...</td>\n",
       "      <td>...</td>\n",
       "      <td>...</td>\n",
       "      <td>...</td>\n",
       "      <td>...</td>\n",
       "      <td>...</td>\n",
       "    </tr>\n",
       "    <tr>\n",
       "      <th>540</th>\n",
       "      <td>0.092784</td>\n",
       "      <td>0.2</td>\n",
       "      <td>0.000000</td>\n",
       "      <td>0.000000</td>\n",
       "      <td>1.0</td>\n",
       "      <td>0.0</td>\n",
       "      <td>1.0</td>\n",
       "      <td>0.666667</td>\n",
       "    </tr>\n",
       "    <tr>\n",
       "      <th>541</th>\n",
       "      <td>0.051546</td>\n",
       "      <td>0.4</td>\n",
       "      <td>0.000000</td>\n",
       "      <td>0.000000</td>\n",
       "      <td>0.0</td>\n",
       "      <td>0.0</td>\n",
       "      <td>0.0</td>\n",
       "      <td>0.000000</td>\n",
       "    </tr>\n",
       "    <tr>\n",
       "      <th>542</th>\n",
       "      <td>0.135395</td>\n",
       "      <td>0.2</td>\n",
       "      <td>0.000000</td>\n",
       "      <td>0.000000</td>\n",
       "      <td>1.0</td>\n",
       "      <td>0.0</td>\n",
       "      <td>0.0</td>\n",
       "      <td>0.000000</td>\n",
       "    </tr>\n",
       "    <tr>\n",
       "      <th>543</th>\n",
       "      <td>0.086598</td>\n",
       "      <td>0.4</td>\n",
       "      <td>0.000000</td>\n",
       "      <td>0.000000</td>\n",
       "      <td>0.0</td>\n",
       "      <td>0.0</td>\n",
       "      <td>0.0</td>\n",
       "      <td>0.000000</td>\n",
       "    </tr>\n",
       "    <tr>\n",
       "      <th>544</th>\n",
       "      <td>0.151203</td>\n",
       "      <td>0.4</td>\n",
       "      <td>0.000000</td>\n",
       "      <td>0.333333</td>\n",
       "      <td>1.0</td>\n",
       "      <td>0.0</td>\n",
       "      <td>0.0</td>\n",
       "      <td>0.000000</td>\n",
       "    </tr>\n",
       "  </tbody>\n",
       "</table>\n",
       "<p>545 rows × 8 columns</p>\n",
       "</div>"
      ],
      "text/plain": [
       "            0    1         2         3    4    5    6         7\n",
       "0    0.396564  0.6  0.333333  0.666667  1.0  0.0  0.0  0.666667\n",
       "1    0.502405  0.6  1.000000  1.000000  1.0  0.0  0.0  1.000000\n",
       "2    0.571134  0.4  0.333333  0.333333  1.0  0.0  1.0  0.666667\n",
       "3    0.402062  0.6  0.333333  0.333333  1.0  0.0  1.0  1.000000\n",
       "4    0.396564  0.6  0.000000  0.333333  1.0  1.0  1.0  0.666667\n",
       "..        ...  ...       ...       ...  ...  ...  ...       ...\n",
       "540  0.092784  0.2  0.000000  0.000000  1.0  0.0  1.0  0.666667\n",
       "541  0.051546  0.4  0.000000  0.000000  0.0  0.0  0.0  0.000000\n",
       "542  0.135395  0.2  0.000000  0.000000  1.0  0.0  0.0  0.000000\n",
       "543  0.086598  0.4  0.000000  0.000000  0.0  0.0  0.0  0.000000\n",
       "544  0.151203  0.4  0.000000  0.333333  1.0  0.0  0.0  0.000000\n",
       "\n",
       "[545 rows x 8 columns]"
      ]
     },
     "execution_count": 312,
     "metadata": {},
     "output_type": "execute_result"
    }
   ],
   "source": [
    "from sklearn.preprocessing import MinMaxScaler\n",
    "transformer = MinMaxScaler()\n",
    "x_norm = transformer.fit_transform(x)\n",
    "pd.DataFrame(x_norm)"
   ]
  },
  {
   "cell_type": "code",
   "execution_count": 313,
   "id": "adbd40af",
   "metadata": {},
   "outputs": [
    {
     "data": {
      "text/plain": [
       "(545,)"
      ]
     },
     "execution_count": 313,
     "metadata": {},
     "output_type": "execute_result"
    }
   ],
   "source": [
    "x_norm[:,0].shape"
   ]
  },
  {
   "cell_type": "code",
   "execution_count": 314,
   "id": "f519899c",
   "metadata": {},
   "outputs": [
    {
     "data": {
      "text/html": [
       "<div>\n",
       "<style scoped>\n",
       "    .dataframe tbody tr th:only-of-type {\n",
       "        vertical-align: middle;\n",
       "    }\n",
       "\n",
       "    .dataframe tbody tr th {\n",
       "        vertical-align: top;\n",
       "    }\n",
       "\n",
       "    .dataframe thead th {\n",
       "        text-align: right;\n",
       "    }\n",
       "</style>\n",
       "<table border=\"1\" class=\"dataframe\">\n",
       "  <thead>\n",
       "    <tr style=\"text-align: right;\">\n",
       "      <th></th>\n",
       "      <th>0</th>\n",
       "      <th>1</th>\n",
       "      <th>2</th>\n",
       "      <th>3</th>\n",
       "      <th>4</th>\n",
       "      <th>5</th>\n",
       "      <th>6</th>\n",
       "      <th>7</th>\n",
       "      <th>8</th>\n",
       "    </tr>\n",
       "  </thead>\n",
       "  <tbody>\n",
       "    <tr>\n",
       "      <th>0</th>\n",
       "      <td>1.0</td>\n",
       "      <td>0.396564</td>\n",
       "      <td>0.6</td>\n",
       "      <td>0.333333</td>\n",
       "      <td>0.666667</td>\n",
       "      <td>1.0</td>\n",
       "      <td>0.0</td>\n",
       "      <td>0.0</td>\n",
       "      <td>0.666667</td>\n",
       "    </tr>\n",
       "    <tr>\n",
       "      <th>1</th>\n",
       "      <td>1.0</td>\n",
       "      <td>0.502405</td>\n",
       "      <td>0.6</td>\n",
       "      <td>1.000000</td>\n",
       "      <td>1.000000</td>\n",
       "      <td>1.0</td>\n",
       "      <td>0.0</td>\n",
       "      <td>0.0</td>\n",
       "      <td>1.000000</td>\n",
       "    </tr>\n",
       "    <tr>\n",
       "      <th>2</th>\n",
       "      <td>1.0</td>\n",
       "      <td>0.571134</td>\n",
       "      <td>0.4</td>\n",
       "      <td>0.333333</td>\n",
       "      <td>0.333333</td>\n",
       "      <td>1.0</td>\n",
       "      <td>0.0</td>\n",
       "      <td>1.0</td>\n",
       "      <td>0.666667</td>\n",
       "    </tr>\n",
       "    <tr>\n",
       "      <th>3</th>\n",
       "      <td>1.0</td>\n",
       "      <td>0.402062</td>\n",
       "      <td>0.6</td>\n",
       "      <td>0.333333</td>\n",
       "      <td>0.333333</td>\n",
       "      <td>1.0</td>\n",
       "      <td>0.0</td>\n",
       "      <td>1.0</td>\n",
       "      <td>1.000000</td>\n",
       "    </tr>\n",
       "    <tr>\n",
       "      <th>4</th>\n",
       "      <td>1.0</td>\n",
       "      <td>0.396564</td>\n",
       "      <td>0.6</td>\n",
       "      <td>0.000000</td>\n",
       "      <td>0.333333</td>\n",
       "      <td>1.0</td>\n",
       "      <td>1.0</td>\n",
       "      <td>1.0</td>\n",
       "      <td>0.666667</td>\n",
       "    </tr>\n",
       "    <tr>\n",
       "      <th>...</th>\n",
       "      <td>...</td>\n",
       "      <td>...</td>\n",
       "      <td>...</td>\n",
       "      <td>...</td>\n",
       "      <td>...</td>\n",
       "      <td>...</td>\n",
       "      <td>...</td>\n",
       "      <td>...</td>\n",
       "      <td>...</td>\n",
       "    </tr>\n",
       "    <tr>\n",
       "      <th>540</th>\n",
       "      <td>1.0</td>\n",
       "      <td>0.092784</td>\n",
       "      <td>0.2</td>\n",
       "      <td>0.000000</td>\n",
       "      <td>0.000000</td>\n",
       "      <td>1.0</td>\n",
       "      <td>0.0</td>\n",
       "      <td>1.0</td>\n",
       "      <td>0.666667</td>\n",
       "    </tr>\n",
       "    <tr>\n",
       "      <th>541</th>\n",
       "      <td>1.0</td>\n",
       "      <td>0.051546</td>\n",
       "      <td>0.4</td>\n",
       "      <td>0.000000</td>\n",
       "      <td>0.000000</td>\n",
       "      <td>0.0</td>\n",
       "      <td>0.0</td>\n",
       "      <td>0.0</td>\n",
       "      <td>0.000000</td>\n",
       "    </tr>\n",
       "    <tr>\n",
       "      <th>542</th>\n",
       "      <td>1.0</td>\n",
       "      <td>0.135395</td>\n",
       "      <td>0.2</td>\n",
       "      <td>0.000000</td>\n",
       "      <td>0.000000</td>\n",
       "      <td>1.0</td>\n",
       "      <td>0.0</td>\n",
       "      <td>0.0</td>\n",
       "      <td>0.000000</td>\n",
       "    </tr>\n",
       "    <tr>\n",
       "      <th>543</th>\n",
       "      <td>1.0</td>\n",
       "      <td>0.086598</td>\n",
       "      <td>0.4</td>\n",
       "      <td>0.000000</td>\n",
       "      <td>0.000000</td>\n",
       "      <td>0.0</td>\n",
       "      <td>0.0</td>\n",
       "      <td>0.0</td>\n",
       "      <td>0.000000</td>\n",
       "    </tr>\n",
       "    <tr>\n",
       "      <th>544</th>\n",
       "      <td>1.0</td>\n",
       "      <td>0.151203</td>\n",
       "      <td>0.4</td>\n",
       "      <td>0.000000</td>\n",
       "      <td>0.333333</td>\n",
       "      <td>1.0</td>\n",
       "      <td>0.0</td>\n",
       "      <td>0.0</td>\n",
       "      <td>0.000000</td>\n",
       "    </tr>\n",
       "  </tbody>\n",
       "</table>\n",
       "<p>545 rows × 9 columns</p>\n",
       "</div>"
      ],
      "text/plain": [
       "       0         1    2         3         4    5    6    7         8\n",
       "0    1.0  0.396564  0.6  0.333333  0.666667  1.0  0.0  0.0  0.666667\n",
       "1    1.0  0.502405  0.6  1.000000  1.000000  1.0  0.0  0.0  1.000000\n",
       "2    1.0  0.571134  0.4  0.333333  0.333333  1.0  0.0  1.0  0.666667\n",
       "3    1.0  0.402062  0.6  0.333333  0.333333  1.0  0.0  1.0  1.000000\n",
       "4    1.0  0.396564  0.6  0.000000  0.333333  1.0  1.0  1.0  0.666667\n",
       "..   ...       ...  ...       ...       ...  ...  ...  ...       ...\n",
       "540  1.0  0.092784  0.2  0.000000  0.000000  1.0  0.0  1.0  0.666667\n",
       "541  1.0  0.051546  0.4  0.000000  0.000000  0.0  0.0  0.0  0.000000\n",
       "542  1.0  0.135395  0.2  0.000000  0.000000  1.0  0.0  0.0  0.000000\n",
       "543  1.0  0.086598  0.4  0.000000  0.000000  0.0  0.0  0.0  0.000000\n",
       "544  1.0  0.151203  0.4  0.000000  0.333333  1.0  0.0  0.0  0.000000\n",
       "\n",
       "[545 rows x 9 columns]"
      ]
     },
     "execution_count": 314,
     "metadata": {},
     "output_type": "execute_result"
    }
   ],
   "source": [
    "tx = np.c_[np.ones(x_norm[:,0].shape),x_norm]\n",
    "# tx = x_norm\n",
    "pd.DataFrame(tx)"
   ]
  },
  {
   "cell_type": "markdown",
   "id": "45f21761",
   "metadata": {},
   "source": [
    "## **BATCH_GD**"
   ]
  },
  {
   "cell_type": "code",
   "execution_count": 315,
   "id": "33843a95",
   "metadata": {},
   "outputs": [],
   "source": [
    "def make_ones(x,shape):\n",
    "    \"\"\"Use this function to add X0 to our features\"\"\"\n",
    "    tx = np.c_[np.ones(shape=shape),x]\n",
    "    return tx"
   ]
  },
  {
   "cell_type": "code",
   "execution_count": 316,
   "id": "256744de",
   "metadata": {},
   "outputs": [],
   "source": [
    "def calculate_error(tx,w,y):\n",
    "    \"calculate error in our predictions\"\n",
    "    e = y - tx.dot(w)\n",
    "    return e"
   ]
  },
  {
   "cell_type": "code",
   "execution_count": 317,
   "id": "86f0b33e",
   "metadata": {},
   "outputs": [],
   "source": [
    "def compute_mse(tx,w,y):\n",
    "    \"This is a function to calculate the mse\"\n",
    "    e = calculate_error(tx,w,y)\n",
    "    cost = 1/2 * np.mean(e**2)\n",
    "    return round(cost,4)"
   ]
  },
  {
   "cell_type": "code",
   "execution_count": 318,
   "id": "b92e5761",
   "metadata": {},
   "outputs": [],
   "source": [
    "def calculate_grad(tx,w,y):\n",
    "    e = calculate_error(tx,w,y)\n",
    "    grad = (-1/len(y)) * tx.T.dot(e)\n",
    "    return grad"
   ]
  },
  {
   "cell_type": "code",
   "execution_count": 319,
   "id": "3a793527",
   "metadata": {},
   "outputs": [],
   "source": [
    "def make_batch(tx , y , batch_size , num_batch):\n",
    "    \"This is function to make batches of dataset\"\n",
    "    start_p = 0\n",
    "    for _ in range(num_batch):\n",
    "        final_p = start_p + batch_size if start_p + batch_size < len(y) else len(y)\n",
    "        if final_p > len(y):\n",
    "            break\n",
    "        # print(start_p , final_p , batch_size)\n",
    "        yield tx[start_p:start_p + batch_size,:] , y[start_p:start_p + batch_size]\n",
    "        start_p = start_p + batch_size\n",
    "        \n",
    "    # raise Exception(\"No more data !\")"
   ]
  },
  {
   "cell_type": "code",
   "execution_count": 320,
   "id": "2082f119",
   "metadata": {},
   "outputs": [],
   "source": [
    "def Batch_Gradient_Descent(tx , y , w , batch_size , num_batch = None , Epoch = 100 , lr = 0.01 , reduce_lr = False):\n",
    "    best_loss = np.inf\n",
    "    best_w = None\n",
    "    if not num_batch:\n",
    "        num_batch = int(np.floor(len(y) / batch_size))\n",
    "    losses = []\n",
    "    for i in range(Epoch):\n",
    "        for x_batch , y_batch  in make_batch(tx,y,batch_size,num_batch):\n",
    "            grad = calculate_grad(x_batch,w,y_batch)\n",
    "            w = w - lr * grad\n",
    "            mse = compute_mse(tx,w,y)\n",
    "            if mse < best_loss:\n",
    "                best_w = w\n",
    "        print(f\"Epoch : {i} MSE : {mse} \") \n",
    "        # reduce learning rate\n",
    "        if reduce_lr:\n",
    "            lr = lr / 2\n",
    "        losses.append(mse)\n",
    "\n",
    "\n",
    "    return np.asarray(losses) , best_w\n",
    "\n",
    "            "
   ]
  },
  {
   "cell_type": "code",
   "execution_count": 321,
   "id": "3e8340cb",
   "metadata": {},
   "outputs": [
    {
     "data": {
      "text/plain": [
       "(545, 9)"
      ]
     },
     "execution_count": 321,
     "metadata": {},
     "output_type": "execute_result"
    }
   ],
   "source": [
    "tx.shape"
   ]
  },
  {
   "cell_type": "code",
   "execution_count": 322,
   "id": "7693b1a9",
   "metadata": {},
   "outputs": [
    {
     "data": {
      "text/plain": [
       "(545,)"
      ]
     },
     "execution_count": 322,
     "metadata": {},
     "output_type": "execute_result"
    }
   ],
   "source": [
    "y.shape"
   ]
  },
  {
   "cell_type": "code",
   "execution_count": 323,
   "id": "74158758",
   "metadata": {},
   "outputs": [],
   "source": [
    "# Initialize the pivot for datail view\n",
    "# hyperparameter for GD\n",
    "Epoch = 500\n",
    "lr = 0.8\n",
    "pivot = Epoch\n",
    "intial_w = np.random.randint(-1 ,0 ,(9,))"
   ]
  },
  {
   "cell_type": "code",
   "execution_count": 324,
   "id": "b526732e",
   "metadata": {},
   "outputs": [
    {
     "name": "stdout",
     "output_type": "stream",
     "text": [
      "Epoch : 0 MSE : 148995517846.2032 \n",
      "Epoch : 1 MSE : 112484113921.1593 \n",
      "Epoch : 2 MSE : 85376355780.9437 \n",
      "Epoch : 3 MSE : 65232652333.6156 \n",
      "Epoch : 4 MSE : 50247611238.563 \n",
      "Epoch : 5 MSE : 39084937473.1491 \n",
      "Epoch : 6 MSE : 30755381070.4799 \n",
      "Epoch : 7 MSE : 24526486215.4388 \n",
      "Epoch : 8 MSE : 19855840790.9168 \n",
      "Epoch : 9 MSE : 16341697408.5336 \n",
      "Epoch : 10 MSE : 13686438758.9222 \n",
      "Epoch : 11 MSE : 11669542098.9822 \n",
      "Epoch : 12 MSE : 10127570311.956 \n",
      "Epoch : 13 MSE : 8939361473.7412 \n",
      "Epoch : 14 MSE : 8015065045.9876 \n",
      "Epoch : 15 MSE : 7288024759.7771 \n",
      "Epoch : 16 MSE : 6708768442.1312 \n",
      "Epoch : 17 MSE : 6240557438.8812 \n",
      "Epoch : 18 MSE : 5856090591.9998 \n",
      "Epoch : 19 MSE : 5535063000.4834 \n",
      "Epoch : 20 MSE : 5262357681.308 \n",
      "Epoch : 21 MSE : 5026705881.9424 \n",
      "Epoch : 22 MSE : 4819694449.6488 \n",
      "Epoch : 23 MSE : 4635030232.7679 \n",
      "Epoch : 24 MSE : 4467994857.7433 \n",
      "Epoch : 25 MSE : 4315040524.8133 \n",
      "Epoch : 26 MSE : 4173490272.414 \n",
      "Epoch : 27 MSE : 4041315642.4705 \n",
      "Epoch : 28 MSE : 3916971699.5797 \n",
      "Epoch : 29 MSE : 3799274555.7872 \n",
      "Epoch : 30 MSE : 3687310402.3495 \n",
      "Epoch : 31 MSE : 3580367900.763 \n",
      "Epoch : 32 MSE : 3477887896.6787 \n",
      "Epoch : 33 MSE : 3379425984.0487 \n",
      "Epoch : 34 MSE : 3284624605.0647 \n",
      "Epoch : 35 MSE : 3193192229.3683 \n",
      "Epoch : 36 MSE : 3104887791.5377 \n",
      "Epoch : 37 MSE : 3019509036.6826 \n",
      "Epoch : 38 MSE : 2936883772.814 \n",
      "Epoch : 39 MSE : 2856863287.1431 \n",
      "Epoch : 40 MSE : 2779317375.0214 \n",
      "Epoch : 41 MSE : 2704130572.2217 \n",
      "Epoch : 42 MSE : 2631199286.5158 \n",
      "Epoch : 43 MSE : 2560429602.5522 \n",
      "Epoch : 44 MSE : 2491735591.9265 \n",
      "Epoch : 45 MSE : 2425038003.2838 \n",
      "Epoch : 46 MSE : 2360263239.168 \n",
      "Epoch : 47 MSE : 2297342550.0007 \n",
      "Epoch : 48 MSE : 2236211393.1566 \n",
      "Epoch : 49 MSE : 2176808918.1744 \n",
      "Epoch : 50 MSE : 2119077548.8652 \n",
      "Epoch : 51 MSE : 2062962640.3236 \n",
      "Epoch : 52 MSE : 2008412194.2456 \n",
      "Epoch : 53 MSE : 1955376619.9842 \n",
      "Epoch : 54 MSE : 1903808531.7899 \n",
      "Epoch : 55 MSE : 1853662574.9365 \n",
      "Epoch : 56 MSE : 1804895275.128 \n",
      "Epoch : 57 MSE : 1757464906.8577 \n",
      "Epoch : 58 MSE : 1711331377.3499 \n",
      "Epoch : 59 MSE : 1666456123.447 \n",
      "Epoch : 60 MSE : 1622802019.357 \n",
      "Epoch : 61 MSE : 1580333293.5998 \n",
      "Epoch : 62 MSE : 1539015453.8182 \n",
      "Epoch : 63 MSE : 1498815218.3689 \n",
      "Epoch : 64 MSE : 1459700453.8054 \n",
      "Epoch : 65 MSE : 1421640117.5181 \n",
      "Epoch : 66 MSE : 1384604204.9181 \n",
      "Epoch : 67 MSE : 1348563700.6482 \n",
      "Epoch : 68 MSE : 1313490533.3798 \n",
      "Epoch : 69 MSE : 1279357533.8217 \n",
      "Epoch : 70 MSE : 1246138395.6142 \n",
      "Epoch : 71 MSE : 1213807638.8269 \n",
      "Epoch : 72 MSE : 1182340575.8127 \n",
      "Epoch : 73 MSE : 1151713279.2024 \n",
      "Epoch : 74 MSE : 1121902551.8473 \n",
      "Epoch : 75 MSE : 1092885898.5399 \n",
      "Epoch : 76 MSE : 1064641499.3628 \n",
      "Epoch : 77 MSE : 1037148184.5288 \n",
      "Epoch : 78 MSE : 1010385410.5931 \n",
      "Epoch : 79 MSE : 984333237.9275 \n",
      "Epoch : 80 MSE : 958972309.3595 \n",
      "Epoch : 81 MSE : 934283829.8886 \n",
      "Epoch : 82 MSE : 910249547.3981 \n",
      "Epoch : 83 MSE : 886851734.2929 \n",
      "Epoch : 84 MSE : 864073169.9951 \n",
      "Epoch : 85 MSE : 841897124.2398 \n",
      "Epoch : 86 MSE : 820307341.1163 \n",
      "Epoch : 87 MSE : 799288023.8049 \n",
      "Epoch : 88 MSE : 778823819.9652 \n",
      "Epoch : 89 MSE : 758899807.734 \n",
      "Epoch : 90 MSE : 739501482.2955 \n",
      "Epoch : 91 MSE : 720614742.9894 \n",
      "Epoch : 92 MSE : 702225880.9252 \n",
      "Epoch : 93 MSE : 684321567.0731 \n",
      "Epoch : 94 MSE : 666888840.8062 \n",
      "Epoch : 95 MSE : 649915098.8672 \n",
      "Epoch : 96 MSE : 633388084.739 \n",
      "Epoch : 97 MSE : 617295878.3969 \n",
      "Epoch : 98 MSE : 601626886.4235 \n",
      "Epoch : 99 MSE : 586369832.4677 \n",
      "Epoch : 100 MSE : 571513748.032 \n",
      "Epoch : 101 MSE : 557047963.5718 \n",
      "Epoch : 102 MSE : 542962099.8923 \n",
      "Epoch : 103 MSE : 529246059.8303 \n",
      "Epoch : 104 MSE : 515890020.2071 \n",
      "Epoch : 105 MSE : 502884424.0416 \n",
      "Epoch : 106 MSE : 490219973.0123 \n",
      "Epoch : 107 MSE : 477887620.1578 \n",
      "Epoch : 108 MSE : 465878562.8062 \n",
      "Epoch : 109 MSE : 454184235.7243 \n",
      "Epoch : 110 MSE : 442796304.4778 \n",
      "Epoch : 111 MSE : 431706658.9942 \n",
      "Epoch : 112 MSE : 420907407.3218 \n",
      "Epoch : 113 MSE : 410390869.5758 \n",
      "Epoch : 114 MSE : 400149572.0663 \n",
      "Epoch : 115 MSE : 390176241.6007 \n",
      "Epoch : 116 MSE : 380463799.9545 \n",
      "Epoch : 117 MSE : 371005358.5045 \n",
      "Epoch : 118 MSE : 361794213.0201 \n",
      "Epoch : 119 MSE : 352823838.6043 \n",
      "Epoch : 120 MSE : 344087884.7832 \n",
      "Epoch : 121 MSE : 335580170.7358 \n",
      "Epoch : 122 MSE : 327294680.662 \n",
      "Epoch : 123 MSE : 319225559.2818 \n",
      "Epoch : 124 MSE : 311367107.4644 \n",
      "Epoch : 125 MSE : 303713777.9801 \n",
      "Epoch : 126 MSE : 296260171.3736 \n",
      "Epoch : 127 MSE : 289001031.9535 \n",
      "Epoch : 128 MSE : 281931243.8946 \n",
      "Epoch : 129 MSE : 275045827.4496 \n",
      "Epoch : 130 MSE : 268339935.2676 \n",
      "Epoch : 131 MSE : 261808848.8147 \n",
      "Epoch : 132 MSE : 255447974.8951 \n",
      "Epoch : 133 MSE : 249252842.2682 \n",
      "Epoch : 134 MSE : 243219098.3607 \n",
      "Epoch : 135 MSE : 237342506.069 \n",
      "Epoch : 136 MSE : 231618940.6505 \n",
      "Epoch : 137 MSE : 226044386.7004 \n",
      "Epoch : 138 MSE : 220614935.2125 \n",
      "Epoch : 139 MSE : 215326780.7203 \n",
      "Epoch : 140 MSE : 210176218.5172 \n",
      "Epoch : 141 MSE : 205159641.9523 \n",
      "Epoch : 142 MSE : 200273539.8016 \n",
      "Epoch : 143 MSE : 195514493.7099 \n",
      "Epoch : 144 MSE : 190879175.7033 \n",
      "Epoch : 145 MSE : 186364345.7697 \n",
      "Epoch : 146 MSE : 181966849.5054 \n",
      "Epoch : 147 MSE : 177683615.8255 \n",
      "Epoch : 148 MSE : 173511654.7365 \n",
      "Epoch : 149 MSE : 169448055.1708 \n",
      "Epoch : 150 MSE : 165489982.8782 \n",
      "Epoch : 151 MSE : 161634678.3763 \n",
      "Epoch : 152 MSE : 157879454.9552 \n",
      "Epoch : 153 MSE : 154221696.7377 \n",
      "Epoch : 154 MSE : 150658856.7908 \n",
      "Epoch : 155 MSE : 147188455.2888 \n",
      "Epoch : 156 MSE : 143808077.7264 \n",
      "Epoch : 157 MSE : 140515373.1799 \n",
      "Epoch : 158 MSE : 137308052.6149 \n",
      "Epoch : 159 MSE : 134183887.2407 \n",
      "Epoch : 160 MSE : 131140706.9079 \n",
      "Epoch : 161 MSE : 128176398.5504 \n",
      "Epoch : 162 MSE : 125288904.6684 \n",
      "Epoch : 163 MSE : 122476221.8529 \n",
      "Epoch : 164 MSE : 119736399.3495 \n",
      "Epoch : 165 MSE : 117067537.6611 \n",
      "Epoch : 166 MSE : 114467787.1883 \n",
      "Epoch : 167 MSE : 111935346.9057 \n",
      "Epoch : 168 MSE : 109468463.0745 \n",
      "Epoch : 169 MSE : 107065427.9891 \n",
      "Epoch : 170 MSE : 104724578.7578 \n",
      "Epoch : 171 MSE : 102444296.116 \n",
      "Epoch : 172 MSE : 100223003.2706 \n",
      "Epoch : 173 MSE : 98059164.7766 \n",
      "Epoch : 174 MSE : 95951285.443 \n",
      "Epoch : 175 MSE : 93897909.2676 \n",
      "Epoch : 176 MSE : 91897618.4014 \n",
      "Epoch : 177 MSE : 89949032.1398 \n",
      "Epoch : 178 MSE : 88050805.9411 \n",
      "Epoch : 179 MSE : 86201630.4712 \n",
      "Epoch : 180 MSE : 84400230.6739 \n",
      "Epoch : 181 MSE : 82645364.8656 \n",
      "Epoch : 182 MSE : 80935823.8548 \n",
      "Epoch : 183 MSE : 79270430.085 \n",
      "Epoch : 184 MSE : 77648036.7994 \n",
      "Epoch : 185 MSE : 76067527.2295 \n",
      "Epoch : 186 MSE : 74527813.8043 \n",
      "Epoch : 187 MSE : 73027837.3804 \n",
      "Epoch : 188 MSE : 71566566.4936 \n",
      "Epoch : 189 MSE : 70142996.6293 \n",
      "Epoch : 190 MSE : 68756149.5129 \n",
      "Epoch : 191 MSE : 67405072.4191 \n",
      "Epoch : 192 MSE : 66088837.4996 \n",
      "Epoch : 193 MSE : 64806541.1281 \n",
      "Epoch : 194 MSE : 63557303.2634 \n",
      "Epoch : 195 MSE : 62340266.8289 \n",
      "Epoch : 196 MSE : 61154597.1092 \n",
      "Epoch : 197 MSE : 59999481.1618 \n",
      "Epoch : 198 MSE : 58874127.2455 \n",
      "Epoch : 199 MSE : 57777764.2628 \n",
      "Epoch : 200 MSE : 56709641.2181 \n",
      "Epoch : 201 MSE : 55669026.6896 \n",
      "Epoch : 202 MSE : 54655208.3156 \n",
      "Epoch : 203 MSE : 53667492.2941 \n",
      "Epoch : 204 MSE : 52705202.8957 \n",
      "Epoch : 205 MSE : 51767681.9899 \n",
      "Epoch : 206 MSE : 50854288.5829 \n",
      "Epoch : 207 MSE : 49964398.3688 \n",
      "Epoch : 208 MSE : 49097403.2917 \n",
      "Epoch : 209 MSE : 48252711.1201 \n",
      "Epoch : 210 MSE : 47429745.0321 \n",
      "Epoch : 211 MSE : 46627943.2116 \n",
      "Epoch : 212 MSE : 45846758.4554 \n",
      "Epoch : 213 MSE : 45085657.7907 \n",
      "Epoch : 214 MSE : 44344122.1022 \n",
      "Epoch : 215 MSE : 43621645.7695 \n",
      "Epoch : 216 MSE : 42917736.3144 \n",
      "Epoch : 217 MSE : 42231914.0561 \n",
      "Epoch : 218 MSE : 41563711.7776 \n",
      "Epoch : 219 MSE : 40912674.3987 \n",
      "Epoch : 220 MSE : 40278358.6595 \n",
      "Epoch : 221 MSE : 39660332.8109 \n",
      "Epoch : 222 MSE : 39058176.3139 \n",
      "Epoch : 223 MSE : 38471479.5467 \n",
      "Epoch : 224 MSE : 37899843.5195 \n",
      "Epoch : 225 MSE : 37342879.5969 \n",
      "Epoch : 226 MSE : 36800209.2273 \n",
      "Epoch : 227 MSE : 36271463.6796 \n",
      "Epoch : 228 MSE : 35756283.7872 \n",
      "Epoch : 229 MSE : 35254319.6981 \n",
      "Epoch : 230 MSE : 34765230.6317 \n",
      "Epoch : 231 MSE : 34288684.6427 \n",
      "Epoch : 232 MSE : 33824358.3901 \n",
      "Epoch : 233 MSE : 33371936.913 \n",
      "Epoch : 234 MSE : 32931113.4123 \n",
      "Epoch : 235 MSE : 32501589.0375 \n",
      "Epoch : 236 MSE : 32083072.68 \n",
      "Epoch : 237 MSE : 31675280.7712 \n",
      "Epoch : 238 MSE : 31277937.0859 \n",
      "Epoch : 239 MSE : 30890772.5512 \n",
      "Epoch : 240 MSE : 30513525.0601 \n",
      "Epoch : 241 MSE : 30145939.2904 \n",
      "Epoch : 242 MSE : 29787766.5276 \n",
      "Epoch : 243 MSE : 29438764.4931 \n",
      "Epoch : 244 MSE : 29098697.1772 \n",
      "Epoch : 245 MSE : 28767334.675 \n",
      "Epoch : 246 MSE : 28444453.0284 \n",
      "Epoch : 247 MSE : 28129834.0712 \n",
      "Epoch : 248 MSE : 27823265.2783 \n",
      "Epoch : 249 MSE : 27524539.6191 \n",
      "Epoch : 250 MSE : 27233455.4148 \n",
      "Epoch : 251 MSE : 26949816.1991 \n",
      "Epoch : 252 MSE : 26673430.5828 \n",
      "Epoch : 253 MSE : 26404112.122 \n",
      "Epoch : 254 MSE : 26141679.1893 \n",
      "Epoch : 255 MSE : 25885954.8492 \n",
      "Epoch : 256 MSE : 25636766.7358 \n",
      "Epoch : 257 MSE : 25393946.9342 \n",
      "Epoch : 258 MSE : 25157331.8652 \n",
      "Epoch : 259 MSE : 24926762.1724 \n",
      "Epoch : 260 MSE : 24702082.6129 \n",
      "Epoch : 261 MSE : 24483141.9505 \n",
      "Epoch : 262 MSE : 24269792.8515 \n",
      "Epoch : 263 MSE : 24061891.7838 \n",
      "Epoch : 264 MSE : 23859298.9181 \n",
      "Epoch : 265 MSE : 23661878.0319 \n",
      "Epoch : 266 MSE : 23469496.416 \n",
      "Epoch : 267 MSE : 23282024.7833 \n",
      "Epoch : 268 MSE : 23099337.1804 \n",
      "Epoch : 269 MSE : 22921310.9009 \n",
      "Epoch : 270 MSE : 22747826.4014 \n",
      "Epoch : 271 MSE : 22578767.2193 \n",
      "Epoch : 272 MSE : 22414019.8936 \n",
      "Epoch : 273 MSE : 22253473.8864 \n",
      "Epoch : 274 MSE : 22097021.5077 \n",
      "Epoch : 275 MSE : 21944557.8415 \n",
      "Epoch : 276 MSE : 21795980.674 \n",
      "Epoch : 277 MSE : 21651190.4237 \n",
      "Epoch : 278 MSE : 21510090.073 \n",
      "Epoch : 279 MSE : 21372585.1022 \n",
      "Epoch : 280 MSE : 21238583.4249 \n",
      "Epoch : 281 MSE : 21107995.3246 \n",
      "Epoch : 282 MSE : 20980733.3937 \n",
      "Epoch : 283 MSE : 20856712.4741 \n",
      "Epoch : 284 MSE : 20735849.5982 \n",
      "Epoch : 285 MSE : 20618063.9331 \n",
      "Epoch : 286 MSE : 20503276.7249 \n",
      "Epoch : 287 MSE : 20391411.2452 \n",
      "Epoch : 288 MSE : 20282392.7387 \n",
      "Epoch : 289 MSE : 20176148.3721 \n",
      "Epoch : 290 MSE : 20072607.1845 \n",
      "Epoch : 291 MSE : 19971700.0392 \n",
      "Epoch : 292 MSE : 19873359.5763 \n",
      "Epoch : 293 MSE : 19777520.167 \n",
      "Epoch : 294 MSE : 19684117.8689 \n",
      "Epoch : 295 MSE : 19593090.3823 \n",
      "Epoch : 296 MSE : 19504377.0079 \n",
      "Epoch : 297 MSE : 19417918.6056 \n",
      "Epoch : 298 MSE : 19333657.5539 \n",
      "Epoch : 299 MSE : 19251537.7112 \n",
      "Epoch : 300 MSE : 19171504.3772 \n",
      "Epoch : 301 MSE : 19093504.2559 \n",
      "Epoch : 302 MSE : 19017485.4194 \n",
      "Epoch : 303 MSE : 18943397.2726 \n",
      "Epoch : 304 MSE : 18871190.5187 \n",
      "Epoch : 305 MSE : 18800817.1258 \n",
      "Epoch : 306 MSE : 18732230.2945 \n",
      "Epoch : 307 MSE : 18665384.4257 \n",
      "Epoch : 308 MSE : 18600235.09 \n",
      "Epoch : 309 MSE : 18536738.9975 \n",
      "Epoch : 310 MSE : 18474853.9682 \n",
      "Epoch : 311 MSE : 18414538.9039 \n",
      "Epoch : 312 MSE : 18355753.7597 \n",
      "Epoch : 313 MSE : 18298459.5173 \n",
      "Epoch : 314 MSE : 18242618.1586 \n",
      "Epoch : 315 MSE : 18188192.6397 \n",
      "Epoch : 316 MSE : 18135146.8657 \n",
      "Epoch : 317 MSE : 18083445.6668 \n",
      "Epoch : 318 MSE : 18033054.7739 \n",
      "Epoch : 319 MSE : 17983940.7958 \n",
      "Epoch : 320 MSE : 17936071.1965 \n",
      "Epoch : 321 MSE : 17889414.2732 \n",
      "Epoch : 322 MSE : 17843939.1347 \n",
      "Epoch : 323 MSE : 17799615.6808 \n",
      "Epoch : 324 MSE : 17756414.5818 \n",
      "Epoch : 325 MSE : 17714307.2585 \n",
      "Epoch : 326 MSE : 17673265.8634 \n",
      "Epoch : 327 MSE : 17633263.2614 \n",
      "Epoch : 328 MSE : 17594273.0116 \n",
      "Epoch : 329 MSE : 17556269.3498 \n",
      "Epoch : 330 MSE : 17519227.1706 \n",
      "Epoch : 331 MSE : 17483122.0107 \n",
      "Epoch : 332 MSE : 17447930.0324 \n",
      "Epoch : 333 MSE : 17413628.0077 \n",
      "Epoch : 334 MSE : 17380193.3022 \n",
      "Epoch : 335 MSE : 17347603.8603 \n",
      "Epoch : 336 MSE : 17315838.19 \n",
      "Epoch : 337 MSE : 17284875.3488 \n",
      "Epoch : 338 MSE : 17254694.929 \n",
      "Epoch : 339 MSE : 17225277.0447 \n",
      "Epoch : 340 MSE : 17196602.3178 \n",
      "Epoch : 341 MSE : 17168651.8653 \n",
      "Epoch : 342 MSE : 17141407.2863 \n",
      "Epoch : 343 MSE : 17114850.6502 \n",
      "Epoch : 344 MSE : 17088964.4839 \n",
      "Epoch : 345 MSE : 17063731.7605 \n",
      "Epoch : 346 MSE : 17039135.8878 \n",
      "Epoch : 347 MSE : 17015160.6972 \n",
      "Epoch : 348 MSE : 16991790.4327 \n",
      "Epoch : 349 MSE : 16969009.7402 \n",
      "Epoch : 350 MSE : 16946803.6575 \n",
      "Epoch : 351 MSE : 16925157.6043 \n",
      "Epoch : 352 MSE : 16904057.3719 \n",
      "Epoch : 353 MSE : 16883489.1141 \n",
      "Epoch : 354 MSE : 16863439.3381 \n",
      "Epoch : 355 MSE : 16843894.8947 \n",
      "Epoch : 356 MSE : 16824842.9703 \n",
      "Epoch : 357 MSE : 16806271.0778 \n",
      "Epoch : 358 MSE : 16788167.0484 \n",
      "Epoch : 359 MSE : 16770519.0235 \n",
      "Epoch : 360 MSE : 16753315.4466 \n",
      "Epoch : 361 MSE : 16736545.0558 \n",
      "Epoch : 362 MSE : 16720196.876 \n",
      "Epoch : 363 MSE : 16704260.2117 \n",
      "Epoch : 364 MSE : 16688724.6399 \n",
      "Epoch : 365 MSE : 16673580.0028 \n",
      "Epoch : 366 MSE : 16658816.4015 \n",
      "Epoch : 367 MSE : 16644424.1891 \n",
      "Epoch : 368 MSE : 16630393.9642 \n",
      "Epoch : 369 MSE : 16616716.5647 \n",
      "Epoch : 370 MSE : 16603383.0618 \n",
      "Epoch : 371 MSE : 16590384.7537 \n",
      "Epoch : 372 MSE : 16577713.1602 \n",
      "Epoch : 373 MSE : 16565360.0168 \n",
      "Epoch : 374 MSE : 16553317.2692 \n",
      "Epoch : 375 MSE : 16541577.0679 \n",
      "Epoch : 376 MSE : 16530131.7632 \n",
      "Epoch : 377 MSE : 16518973.8996 \n",
      "Epoch : 378 MSE : 16508096.2115 \n",
      "Epoch : 379 MSE : 16497491.6178 \n",
      "Epoch : 380 MSE : 16487153.2173 \n",
      "Epoch : 381 MSE : 16477074.2845 \n",
      "Epoch : 382 MSE : 16467248.2645 \n",
      "Epoch : 383 MSE : 16457668.769 \n",
      "Epoch : 384 MSE : 16448329.5722 \n",
      "Epoch : 385 MSE : 16439224.6061 \n",
      "Epoch : 386 MSE : 16430347.957 \n",
      "Epoch : 387 MSE : 16421693.8615 \n",
      "Epoch : 388 MSE : 16413256.7023 \n",
      "Epoch : 389 MSE : 16405031.0048 \n",
      "Epoch : 390 MSE : 16397011.4334 \n",
      "Epoch : 391 MSE : 16389192.7879 \n",
      "Epoch : 392 MSE : 16381570.0 \n",
      "Epoch : 393 MSE : 16374138.1301 \n",
      "Epoch : 394 MSE : 16366892.3638 \n",
      "Epoch : 395 MSE : 16359828.0089 \n",
      "Epoch : 396 MSE : 16352940.4923 \n",
      "Epoch : 397 MSE : 16346225.3568 \n",
      "Epoch : 398 MSE : 16339678.258 \n",
      "Epoch : 399 MSE : 16333294.9619 \n",
      "Epoch : 400 MSE : 16327071.3419 \n",
      "Epoch : 401 MSE : 16321003.3758 \n",
      "Epoch : 402 MSE : 16315087.1433 \n",
      "Epoch : 403 MSE : 16309318.8236 \n",
      "Epoch : 404 MSE : 16303694.6926 \n",
      "Epoch : 405 MSE : 16298211.1205 \n",
      "Epoch : 406 MSE : 16292864.5696 \n",
      "Epoch : 407 MSE : 16287651.5917 \n",
      "Epoch : 408 MSE : 16282568.8259 \n",
      "Epoch : 409 MSE : 16277612.9963 \n",
      "Epoch : 410 MSE : 16272780.91 \n",
      "Epoch : 411 MSE : 16268069.4551 \n",
      "Epoch : 412 MSE : 16263475.5981 \n",
      "Epoch : 413 MSE : 16258996.3826 \n",
      "Epoch : 414 MSE : 16254628.9268 \n",
      "Epoch : 415 MSE : 16250370.4217 \n",
      "Epoch : 416 MSE : 16246218.1297 \n",
      "Epoch : 417 MSE : 16242169.3821 \n",
      "Epoch : 418 MSE : 16238221.5777 \n",
      "Epoch : 419 MSE : 16234372.1813 \n",
      "Epoch : 420 MSE : 16230618.7216 \n",
      "Epoch : 421 MSE : 16226958.7898 \n",
      "Epoch : 422 MSE : 16223390.0379 \n",
      "Epoch : 423 MSE : 16219910.1774 \n",
      "Epoch : 424 MSE : 16216516.9775 \n",
      "Epoch : 425 MSE : 16213208.2637 \n",
      "Epoch : 426 MSE : 16209981.9165 \n",
      "Epoch : 427 MSE : 16206835.87 \n",
      "Epoch : 428 MSE : 16203768.1102 \n",
      "Epoch : 429 MSE : 16200776.6742 \n",
      "Epoch : 430 MSE : 16197859.6486 \n",
      "Epoch : 431 MSE : 16195015.1681 \n",
      "Epoch : 432 MSE : 16192241.4147 \n",
      "Epoch : 433 MSE : 16189536.6162 \n",
      "Epoch : 434 MSE : 16186899.045 \n",
      "Epoch : 435 MSE : 16184327.0172 \n",
      "Epoch : 436 MSE : 16181818.8912 \n",
      "Epoch : 437 MSE : 16179373.0671 \n",
      "Epoch : 438 MSE : 16176987.9851 \n",
      "Epoch : 439 MSE : 16174662.1247 \n",
      "Epoch : 440 MSE : 16172394.0037 \n",
      "Epoch : 441 MSE : 16170182.1775 \n",
      "Epoch : 442 MSE : 16168025.2377 \n",
      "Epoch : 443 MSE : 16165921.8113 \n",
      "Epoch : 444 MSE : 16163870.56 \n",
      "Epoch : 445 MSE : 16161870.1793 \n",
      "Epoch : 446 MSE : 16159919.3974 \n",
      "Epoch : 447 MSE : 16158016.9745 \n",
      "Epoch : 448 MSE : 16156161.7021 \n",
      "Epoch : 449 MSE : 16154352.402 \n",
      "Epoch : 450 MSE : 16152587.9259 \n",
      "Epoch : 451 MSE : 16150867.154 \n",
      "Epoch : 452 MSE : 16149188.9951 \n",
      "Epoch : 453 MSE : 16147552.3851 \n",
      "Epoch : 454 MSE : 16145956.2868 \n",
      "Epoch : 455 MSE : 16144399.6891 \n",
      "Epoch : 456 MSE : 16142881.6062 \n",
      "Epoch : 457 MSE : 16141401.0773 \n",
      "Epoch : 458 MSE : 16139957.1655 \n",
      "Epoch : 459 MSE : 16138548.9577 \n",
      "Epoch : 460 MSE : 16137175.5634 \n",
      "Epoch : 461 MSE : 16135836.1148 \n",
      "Epoch : 462 MSE : 16134529.7657 \n",
      "Epoch : 463 MSE : 16133255.6912 \n",
      "Epoch : 464 MSE : 16132013.0871 \n",
      "Epoch : 465 MSE : 16130801.1695 \n",
      "Epoch : 466 MSE : 16129619.1739 \n",
      "Epoch : 467 MSE : 16128466.3554 \n",
      "Epoch : 468 MSE : 16127341.9874 \n",
      "Epoch : 469 MSE : 16126245.3616 \n",
      "Epoch : 470 MSE : 16125175.7877 \n",
      "Epoch : 471 MSE : 16124132.5925 \n",
      "Epoch : 472 MSE : 16123115.1198 \n",
      "Epoch : 473 MSE : 16122122.7296 \n",
      "Epoch : 474 MSE : 16121154.7983 \n",
      "Epoch : 475 MSE : 16120210.7177 \n",
      "Epoch : 476 MSE : 16119289.8949 \n",
      "Epoch : 477 MSE : 16118391.7518 \n",
      "Epoch : 478 MSE : 16117515.7248 \n",
      "Epoch : 479 MSE : 16116661.2646 \n",
      "Epoch : 480 MSE : 16115827.8353 \n",
      "Epoch : 481 MSE : 16115014.9147 \n",
      "Epoch : 482 MSE : 16114221.9936 \n",
      "Epoch : 483 MSE : 16113448.5755 \n",
      "Epoch : 484 MSE : 16112694.1763 \n",
      "Epoch : 485 MSE : 16111958.3241 \n",
      "Epoch : 486 MSE : 16111240.5587 \n",
      "Epoch : 487 MSE : 16110540.4316 \n",
      "Epoch : 488 MSE : 16109857.5053 \n",
      "Epoch : 489 MSE : 16109191.3533 \n",
      "Epoch : 490 MSE : 16108541.5598 \n",
      "Epoch : 491 MSE : 16107907.7194 \n",
      "Epoch : 492 MSE : 16107289.4367 \n",
      "Epoch : 493 MSE : 16106686.3263 \n",
      "Epoch : 494 MSE : 16106098.0126 \n",
      "Epoch : 495 MSE : 16105524.1289 \n",
      "Epoch : 496 MSE : 16104964.3181 \n",
      "Epoch : 497 MSE : 16104418.2318 \n",
      "Epoch : 498 MSE : 16103885.5304 \n",
      "Epoch : 499 MSE : 16103365.8826 \n",
      "CPU times: user 90.4 ms, sys: 4 µs, total: 90.4 ms\n",
      "Wall time: 89.3 ms\n"
     ]
    }
   ],
   "source": [
    "%%time\n",
    "batch_size = len(y)\n",
    "\n",
    "losses_GD , best_w_GD = Batch_Gradient_Descent(tx,y,intial_w,batch_size,num_batch=None,Epoch=Epoch , lr = lr) "
   ]
  },
  {
   "cell_type": "code",
   "execution_count": 325,
   "id": "d1c310e8",
   "metadata": {},
   "outputs": [
    {
     "name": "stdout",
     "output_type": "stream",
     "text": [
      "[ 316695.02240684 1057021.2489524     8276.10574178    6083.20527165\n",
      "   23447.10547805   12798.33744777    4855.90410508   25921.49601835\n",
      "   24823.14772327]\n"
     ]
    },
    {
     "data": {
      "text/plain": [
       "(500,)"
      ]
     },
     "execution_count": 325,
     "metadata": {},
     "output_type": "execute_result"
    }
   ],
   "source": [
    "print(best_w_GD)\n",
    "losses_GD.shape"
   ]
  },
  {
   "cell_type": "code",
   "execution_count": 326,
   "id": "f81546d4",
   "metadata": {},
   "outputs": [
    {
     "data": {
      "image/png": "[encoded data removed]",
      "text/plain": [
       "<Figure size 640x480 with 1 Axes>"
      ]
     },
     "metadata": {},
     "output_type": "display_data"
    }
   ],
   "source": [
    "x = np.arange(0,Epoch)\n",
    "plt.plot(x[:pivot],losses_GD[:pivot],label=\"Losses\")\n",
    "plt.ylabel(\"loss\")\n",
    "plt.xlabel(\"Epoch\")\n",
    "plt.title(\"GD Loss\")\n",
    "plt.legend();\n"
   ]
  },
  {
   "cell_type": "markdown",
   "id": "57809bed",
   "metadata": {},
   "source": [
    "## Prediction for custom data "
   ]
  },
  {
   "cell_type": "code",
   "execution_count": 327,
   "id": "ec0a9489",
   "metadata": {},
   "outputs": [
    {
     "data": {
      "text/plain": [
       "array([   1, 7700,    3,    2,    1,    1,    0,    0,    2])"
      ]
     },
     "execution_count": 327,
     "metadata": {},
     "output_type": "execute_result"
    }
   ],
   "source": [
    "custom_data = np.asarray([1,7700,3,2,1,1,0,0,2])\n",
    "custom_data"
   ]
  },
  {
   "cell_type": "code",
   "execution_count": 328,
   "id": "6bd8356e",
   "metadata": {},
   "outputs": [
    {
     "data": {
      "text/plain": [
       "8139503198.421997"
      ]
     },
     "execution_count": 328,
     "metadata": {},
     "output_type": "execute_result"
    }
   ],
   "source": [
    "best_w_GD.T.dot(custom_data)"
   ]
  },
  {
   "cell_type": "markdown",
   "id": "faf1bc1a",
   "metadata": {},
   "source": [
    "## **MINI BATCH GD** "
   ]
  },
  {
   "cell_type": "code",
   "execution_count": 329,
   "id": "3d0c1de7",
   "metadata": {},
   "outputs": [],
   "source": [
    "# Initialize the pivot for datail view\n",
    "# hyperparameter for Mini_batch_GD\n",
    "Epoch = 100\n",
    "lr = 0.1\n",
    "pivot = Epoch"
   ]
  },
  {
   "cell_type": "code",
   "execution_count": 330,
   "id": "c8f2489e",
   "metadata": {},
   "outputs": [
    {
     "name": "stdout",
     "output_type": "stream",
     "text": [
      "Epoch : 0 MSE : 7074089445.5646 \n",
      "Epoch : 1 MSE : 5473052330.3835 \n",
      "Epoch : 2 MSE : 4265188095.3843 \n",
      "Epoch : 3 MSE : 3285764506.543 \n",
      "Epoch : 4 MSE : 2495006734.1498 \n",
      "Epoch : 5 MSE : 1872225729.4461 \n",
      "Epoch : 6 MSE : 1393137183.5806 \n",
      "Epoch : 7 MSE : 1031090391.3725 \n",
      "Epoch : 8 MSE : 760898921.9846 \n",
      "Epoch : 9 MSE : 560976357.79 \n",
      "Epoch : 10 MSE : 413897810.5429 \n",
      "Epoch : 11 MSE : 306111604.9424 \n",
      "Epoch : 12 MSE : 227323581.3852 \n",
      "Epoch : 13 MSE : 169831216.7675 \n",
      "Epoch : 14 MSE : 127927167.5305 \n",
      "Epoch : 15 MSE : 97409237.6459 \n",
      "Epoch : 16 MSE : 75196236.3777 \n",
      "Epoch : 17 MSE : 59035043.3357 \n",
      "Epoch : 18 MSE : 47280982.5895 \n",
      "Epoch : 19 MSE : 38734909.9206 \n",
      "Epoch : 20 MSE : 32523190.8271 \n",
      "Epoch : 21 MSE : 28009665.3522 \n",
      "Epoch : 22 MSE : 24731258.3907 \n",
      "Epoch : 23 MSE : 22350971.1025 \n",
      "Epoch : 24 MSE : 20623602.4443 \n",
      "Epoch : 25 MSE : 19370772.6077 \n",
      "Epoch : 26 MSE : 18462733.1339 \n",
      "Epoch : 27 MSE : 17805123.8041 \n",
      "Epoch : 28 MSE : 17329332.9841 \n",
      "Epoch : 29 MSE : 16985481.8627 \n",
      "Epoch : 30 MSE : 16737318.8405 \n",
      "Epoch : 31 MSE : 16558504.2643 \n",
      "Epoch : 32 MSE : 16429907.0624 \n",
      "Epoch : 33 MSE : 16337637.804 \n",
      "Epoch : 34 MSE : 16271617.6776 \n",
      "Epoch : 35 MSE : 16224537.4638 \n",
      "Epoch : 36 MSE : 16191100.3015 \n",
      "Epoch : 37 MSE : 16167470.9576 \n",
      "Epoch : 38 MSE : 16150875.354 \n",
      "Epoch : 39 MSE : 16139309.4173 \n",
      "Epoch : 40 MSE : 16131327.4616 \n",
      "Epoch : 41 MSE : 16125888.4267 \n",
      "Epoch : 42 MSE : 16122244.1955 \n",
      "Epoch : 43 MSE : 16119858.5119 \n",
      "Epoch : 44 MSE : 16118348.147 \n",
      "Epoch : 45 MSE : 16117440.2354 \n",
      "Epoch : 46 MSE : 16116941.3622 \n",
      "Epoch : 47 MSE : 16116715.1849 \n",
      "Epoch : 48 MSE : 16116666.2507 \n",
      "Epoch : 49 MSE : 16116728.3103 \n",
      "Epoch : 50 MSE : 16116855.8918 \n",
      "Epoch : 51 MSE : 16117018.2362 \n",
      "Epoch : 52 MSE : 16117194.9431 \n",
      "Epoch : 53 MSE : 16117372.8523 \n",
      "Epoch : 54 MSE : 16117543.818 \n",
      "Epoch : 55 MSE : 16117703.1267 \n",
      "Epoch : 56 MSE : 16117848.3776 \n",
      "Epoch : 57 MSE : 16117978.6959 \n",
      "Epoch : 58 MSE : 16118094.1831 \n",
      "Epoch : 59 MSE : 16118195.5377 \n",
      "Epoch : 60 MSE : 16118283.7961 \n",
      "Epoch : 61 MSE : 16118360.1586 \n",
      "Epoch : 62 MSE : 16118425.8755 \n",
      "Epoch : 63 MSE : 16118482.1746 \n",
      "Epoch : 64 MSE : 16118530.2173 \n",
      "Epoch : 65 MSE : 16118571.0749 \n",
      "Epoch : 66 MSE : 16118605.7174 \n",
      "Epoch : 67 MSE : 16118635.0106 \n",
      "Epoch : 68 MSE : 16118659.7196 \n",
      "Epoch : 69 MSE : 16118680.5142 \n",
      "Epoch : 70 MSE : 16118697.9774 \n",
      "Epoch : 71 MSE : 16118712.6129 \n",
      "Epoch : 72 MSE : 16118724.8547 \n",
      "Epoch : 73 MSE : 16118735.0745 \n",
      "Epoch : 74 MSE : 16118743.5899 \n",
      "Epoch : 75 MSE : 16118750.6717 \n",
      "Epoch : 76 MSE : 16118756.5496 \n",
      "Epoch : 77 MSE : 16118761.4184 \n",
      "Epoch : 78 MSE : 16118765.4428 \n",
      "Epoch : 79 MSE : 16118768.7618 \n",
      "Epoch : 80 MSE : 16118771.4927 \n",
      "Epoch : 81 MSE : 16118773.7338 \n",
      "Epoch : 82 MSE : 16118775.5679 \n",
      "Epoch : 83 MSE : 16118777.0645 \n",
      "Epoch : 84 MSE : 16118778.2815 \n",
      "Epoch : 85 MSE : 16118779.2674 \n",
      "Epoch : 86 MSE : 16118780.0629 \n",
      "Epoch : 87 MSE : 16118780.7016 \n",
      "Epoch : 88 MSE : 16118781.2117 \n",
      "Epoch : 89 MSE : 16118781.6164 \n",
      "Epoch : 90 MSE : 16118781.9352 \n",
      "Epoch : 91 MSE : 16118782.184 \n",
      "Epoch : 92 MSE : 16118782.3761 \n",
      "Epoch : 93 MSE : 16118782.5224 \n",
      "Epoch : 94 MSE : 16118782.632 \n",
      "Epoch : 95 MSE : 16118782.7121 \n",
      "Epoch : 96 MSE : 16118782.7688 \n",
      "Epoch : 97 MSE : 16118782.8071 \n",
      "Epoch : 98 MSE : 16118782.8309 \n",
      "Epoch : 99 MSE : 16118782.8436 \n",
      "CPU times: user 1.89 s, sys: 47 ms, total: 1.94 s\n",
      "Wall time: 1.88 s\n"
     ]
    }
   ],
   "source": [
    "%%time\n",
    "batch_size = 5\n",
    "losses_MINI_GD , best_w_MINI_GD = Batch_Gradient_Descent(tx,y,intial_w,batch_size,num_batch=None,Epoch=Epoch , lr = lr) "
   ]
  },
  {
   "cell_type": "code",
   "execution_count": 331,
   "id": "bbbf379a",
   "metadata": {},
   "outputs": [
    {
     "data": {
      "image/png": "[encoded data removed]",
      "text/plain": [
       "<Figure size 640x480 with 1 Axes>"
      ]
     },
     "metadata": {},
     "output_type": "display_data"
    }
   ],
   "source": [
    "x = np.arange(0,Epoch)\n",
    "plt.plot(x[:pivot],losses_MINI_GD[:pivot],label=\"Losses_MINI_GD\")\n",
    "plt.title(\"Mini BATCH GD\")\n",
    "plt.ylabel(\"loss\")\n",
    "plt.xlabel(\"Epoch\")\n",
    "plt.legend();"
   ]
  },
  {
   "cell_type": "markdown",
   "id": "406b4c1a",
   "metadata": {},
   "source": [
    "## **SGD** "
   ]
  },
  {
   "cell_type": "code",
   "execution_count": 332,
   "id": "49a2c625",
   "metadata": {},
   "outputs": [],
   "source": [
    "# Initialize the pivot for datail view\n",
    "# hyperparameter for SGD\n",
    "Epoch = 100\n",
    "lr = 0.1\n",
    "pivot = Epoch"
   ]
  },
  {
   "cell_type": "code",
   "execution_count": 333,
   "id": "41ccb48b",
   "metadata": {},
   "outputs": [
    {
     "name": "stdout",
     "output_type": "stream",
     "text": [
      "Epoch : 0 MSE : 3361962049.4755 \n",
      "Epoch : 1 MSE : 974734579.3137 \n",
      "Epoch : 2 MSE : 267715270.1657 \n",
      "Epoch : 3 MSE : 84282338.5821 \n",
      "Epoch : 4 MSE : 36802318.3751 \n",
      "Epoch : 5 MSE : 23930720.8549 \n",
      "Epoch : 6 MSE : 20136611.9691 \n",
      "Epoch : 7 MSE : 18883576.7309 \n",
      "Epoch : 8 MSE : 18416380.2597 \n",
      "Epoch : 9 MSE : 18223475.0703 \n",
      "Epoch : 10 MSE : 18138041.4667 \n",
      "Epoch : 11 MSE : 18098596.0231 \n",
      "Epoch : 12 MSE : 18079968.1259 \n",
      "Epoch : 13 MSE : 18071068.8865 \n",
      "Epoch : 14 MSE : 18066793.0803 \n",
      "Epoch : 15 MSE : 18064733.1406 \n",
      "Epoch : 16 MSE : 18063739.5541 \n",
      "Epoch : 17 MSE : 18063260.1047 \n",
      "Epoch : 18 MSE : 18063028.7382 \n",
      "Epoch : 19 MSE : 18062917.1048 \n",
      "Epoch : 20 MSE : 18062863.2558 \n",
      "Epoch : 21 MSE : 18062837.2885 \n",
      "Epoch : 22 MSE : 18062824.7708 \n",
      "Epoch : 23 MSE : 18062818.7389 \n",
      "Epoch : 24 MSE : 18062815.8334 \n",
      "Epoch : 25 MSE : 18062814.4345 \n",
      "Epoch : 26 MSE : 18062813.7613 \n",
      "Epoch : 27 MSE : 18062813.4374 \n",
      "Epoch : 28 MSE : 18062813.2817 \n",
      "Epoch : 29 MSE : 18062813.2069 \n",
      "Epoch : 30 MSE : 18062813.171 \n",
      "Epoch : 31 MSE : 18062813.1537 \n",
      "Epoch : 32 MSE : 18062813.1455 \n",
      "Epoch : 33 MSE : 18062813.1415 \n",
      "Epoch : 34 MSE : 18062813.1396 \n",
      "Epoch : 35 MSE : 18062813.1387 \n",
      "Epoch : 36 MSE : 18062813.1383 \n",
      "Epoch : 37 MSE : 18062813.138 \n",
      "Epoch : 38 MSE : 18062813.1379 \n",
      "Epoch : 39 MSE : 18062813.1379 \n",
      "Epoch : 40 MSE : 18062813.1379 \n",
      "Epoch : 41 MSE : 18062813.1379 \n",
      "Epoch : 42 MSE : 18062813.1379 \n",
      "Epoch : 43 MSE : 18062813.1379 \n",
      "Epoch : 44 MSE : 18062813.1379 \n",
      "Epoch : 45 MSE : 18062813.1379 \n",
      "Epoch : 46 MSE : 18062813.1379 \n",
      "Epoch : 47 MSE : 18062813.1379 \n",
      "Epoch : 48 MSE : 18062813.1379 \n",
      "Epoch : 49 MSE : 18062813.1379 \n",
      "Epoch : 50 MSE : 18062813.1379 \n",
      "Epoch : 51 MSE : 18062813.1379 \n",
      "Epoch : 52 MSE : 18062813.1379 \n",
      "Epoch : 53 MSE : 18062813.1379 \n",
      "Epoch : 54 MSE : 18062813.1379 \n",
      "Epoch : 55 MSE : 18062813.1379 \n",
      "Epoch : 56 MSE : 18062813.1379 \n",
      "Epoch : 57 MSE : 18062813.1379 \n",
      "Epoch : 58 MSE : 18062813.1379 \n",
      "Epoch : 59 MSE : 18062813.1379 \n",
      "Epoch : 60 MSE : 18062813.1379 \n",
      "Epoch : 61 MSE : 18062813.1379 \n",
      "Epoch : 62 MSE : 18062813.1379 \n",
      "Epoch : 63 MSE : 18062813.1379 \n",
      "Epoch : 64 MSE : 18062813.1379 \n",
      "Epoch : 65 MSE : 18062813.1379 \n",
      "Epoch : 66 MSE : 18062813.1379 \n",
      "Epoch : 67 MSE : 18062813.1379 \n",
      "Epoch : 68 MSE : 18062813.1379 \n",
      "Epoch : 69 MSE : 18062813.1379 \n",
      "Epoch : 70 MSE : 18062813.1379 \n",
      "Epoch : 71 MSE : 18062813.1379 \n",
      "Epoch : 72 MSE : 18062813.1379 \n",
      "Epoch : 73 MSE : 18062813.1379 \n",
      "Epoch : 74 MSE : 18062813.1379 \n",
      "Epoch : 75 MSE : 18062813.1379 \n",
      "Epoch : 76 MSE : 18062813.1379 \n",
      "Epoch : 77 MSE : 18062813.1379 \n",
      "Epoch : 78 MSE : 18062813.1379 \n",
      "Epoch : 79 MSE : 18062813.1379 \n",
      "Epoch : 80 MSE : 18062813.1379 \n",
      "Epoch : 81 MSE : 18062813.1379 \n",
      "Epoch : 82 MSE : 18062813.1379 \n",
      "Epoch : 83 MSE : 18062813.1379 \n",
      "Epoch : 84 MSE : 18062813.1379 \n",
      "Epoch : 85 MSE : 18062813.1379 \n",
      "Epoch : 86 MSE : 18062813.1379 \n",
      "Epoch : 87 MSE : 18062813.1379 \n",
      "Epoch : 88 MSE : 18062813.1379 \n",
      "Epoch : 89 MSE : 18062813.1379 \n",
      "Epoch : 90 MSE : 18062813.1379 \n",
      "Epoch : 91 MSE : 18062813.1379 \n",
      "Epoch : 92 MSE : 18062813.1379 \n",
      "Epoch : 93 MSE : 18062813.1379 \n",
      "Epoch : 94 MSE : 18062813.1379 \n",
      "Epoch : 95 MSE : 18062813.1379 \n",
      "Epoch : 96 MSE : 18062813.1379 \n",
      "Epoch : 97 MSE : 18062813.1379 \n",
      "Epoch : 98 MSE : 18062813.1379 \n",
      "Epoch : 99 MSE : 18062813.1379 \n",
      "CPU times: user 9.34 s, sys: 214 ms, total: 9.55 s\n",
      "Wall time: 9.3 s\n"
     ]
    }
   ],
   "source": [
    "%%time\n",
    "batch_size = 1 \n",
    "losses_SGD , best_w_SGD = Batch_Gradient_Descent(tx,y,intial_w,batch_size,num_batch=None,Epoch=Epoch , lr = lr) "
   ]
  },
  {
   "cell_type": "code",
   "execution_count": 334,
   "id": "3592d4e8",
   "metadata": {},
   "outputs": [
    {
     "data": {
      "image/png": "[encoded data removed]",
      "text/plain": [
       "<Figure size 640x480 with 1 Axes>"
      ]
     },
     "metadata": {},
     "output_type": "display_data"
    }
   ],
   "source": [
    "x = np.arange(0,Epoch)\n",
    "plt.plot(x[:pivot],losses_SGD[:pivot],label=\"Losses_SGD\")\n",
    "plt.title(\"SGD\")\n",
    "plt.ylabel(\"loss\")\n",
    "plt.xlabel(\"Epoch\")\n",
    "plt.legend();"
   ]
  },
  {
   "cell_type": "markdown",
   "id": "4817b2ba",
   "metadata": {},
   "source": [
    "## Compare loss over Epoch : `GD` vs `MINI_BATCH_GD` vs `SGD`"
   ]
  },
  {
   "cell_type": "code",
   "execution_count": 335,
   "id": "66f6eeab",
   "metadata": {},
   "outputs": [
    {
     "data": {
      "image/png": "[encoded data removed]",
      "text/plain": [
       "<Figure size 640x480 with 1 Axes>"
      ]
     },
     "metadata": {},
     "output_type": "display_data"
    }
   ],
   "source": [
    "x = np.arange(0,100)\n",
    "plt.plot(x,losses_GD[:100],label=\"Losses_GD\")\n",
    "plt.plot(x,losses_MINI_GD,label=\"Losses_MINI_GD\")\n",
    "plt.plot(x,losses_SGD,label=\"Losses_SGD\")\n",
    "plt.ylabel(\"loss\")\n",
    "plt.xlabel(\"Epoch\")\n",
    "plt.legend();"
   ]
  },
  {
   "cell_type": "code",
   "execution_count": 336,
   "id": "0c52ad80",
   "metadata": {},
   "outputs": [
    {
     "data": {
      "text/html": [
       "<div>\n",
       "<style scoped>\n",
       "    .dataframe tbody tr th:only-of-type {\n",
       "        vertical-align: middle;\n",
       "    }\n",
       "\n",
       "    .dataframe tbody tr th {\n",
       "        vertical-align: top;\n",
       "    }\n",
       "\n",
       "    .dataframe thead th {\n",
       "        text-align: right;\n",
       "    }\n",
       "</style>\n",
       "<table border=\"1\" class=\"dataframe\">\n",
       "  <thead>\n",
       "    <tr style=\"text-align: right;\">\n",
       "      <th></th>\n",
       "      <th>Loss (Millions)</th>\n",
       "    </tr>\n",
       "  </thead>\n",
       "  <tbody>\n",
       "    <tr>\n",
       "      <th>SGD</th>\n",
       "      <td>1.806281</td>\n",
       "    </tr>\n",
       "    <tr>\n",
       "      <th>MINI_GD</th>\n",
       "      <td>1.611667</td>\n",
       "    </tr>\n",
       "    <tr>\n",
       "      <th>GD</th>\n",
       "      <td>1.610337</td>\n",
       "    </tr>\n",
       "  </tbody>\n",
       "</table>\n",
       "</div>"
      ],
      "text/plain": [
       "         Loss (Millions)\n",
       "SGD             1.806281\n",
       "MINI_GD         1.611667\n",
       "GD              1.610337"
      ]
     },
     "execution_count": 336,
     "metadata": {},
     "output_type": "execute_result"
    }
   ],
   "source": [
    "compare_df = pd.DataFrame({\"GD\" : losses_GD.min() , \n",
    "              \"MINI_GD\" : losses_MINI_GD.min() , \n",
    "              \"SGD\" : losses_SGD.min()},index=[\"Loss (Millions)\"]).T.sort_values(by=\"Loss (Millions)\",ascending=False)\n",
    "compare_df = compare_df / 10e6\n",
    "\n",
    "compare_df"
   ]
  },
  {
   "cell_type": "markdown",
   "id": "b48ca59e",
   "metadata": {},
   "source": [
    "\n",
    "**Accuracy**\n",
    "\n",
    "this is a theorical expriment but can vary in each problem :\n",
    "\n",
    "* SGD: Due to its stochastic nature, SGD may exhibit higher variance during training compared to batch GD and mini-batch GD. This variance can affect the accuracy of the final model. However, in practice, SGD can still achieve good accuracy and can even escape from poor local minima.\n",
    "* Batch GD: As batch GD uses the entire dataset for each update, it tends to provide more accurate results compared to SGD and mini-batch GD. Since it explores the global structure of the data, it is less likely to miss important patterns or trends.\n",
    "* Mini-Batch GD: Like SGD, mini-batch GD can have higher variance than batch GD but better accuracy than pure SGD. The accuracy of mini-batch GD depends on the mini-batch size: larger mini-batches may approximate batch GD results, while smaller mini-batches may introduce more noise."
   ]
  },
  {
   "cell_type": "code",
   "execution_count": 337,
   "id": "6f80c46c",
   "metadata": {},
   "outputs": [
    {
     "data": {
      "text/plain": [
       "<AxesSubplot: >"
      ]
     },
     "execution_count": 337,
     "metadata": {},
     "output_type": "execute_result"
    },
    {
     "data": {
      "image/png": "[encoded data removed]",
      "text/plain": [
       "<Figure size 640x480 with 1 Axes>"
      ]
     },
     "metadata": {},
     "output_type": "display_data"
    }
   ],
   "source": [
    "compare_df.plot(kind=\"bar\")"
   ]
  },
  {
   "cell_type": "markdown",
   "id": "fb886607",
   "metadata": {},
   "source": [
    "**Convergence**  \n",
    "\n",
    "\n",
    "* SGD(`15.5s`): SGD updates the model parameters after every individual training example. It converges faster than batch GD and mini-batch GD since it performs more frequent updates. However, due to its stochastic nature, it may have more oscillations during training.\n",
    "* Mini-Batch GD(`3.07s`): Mini-batch GD updates the model parameters after processing a subset (mini-batch) of the training dataset. It lies between SGD and batch GD in terms of convergence speed. It strikes a balance between frequent updates (like SGD) and stability (like batch GD).\n",
    "* Batch GD(`167ms`): Batch GD updates the model parameters after processing the entire training dataset. It converges slower than SGD and mini-batch GD since it requires a full pass over the dataset for each update. However, it tends to have smoother convergence without much oscillation.\n",
    "\n",
    "\n",
    "> **Note**: In practical cause Batch-GD use `Paralell Computation` has very quick convergence .in this problem we have very small dataset so we can fully load it to memory so we can use Batch-GD but if we have for example image dataset with a little memory we can't use Batch-GD\n",
    "\n",
    "\n",
    "\n"
   ]
  },
  {
   "cell_type": "markdown",
   "id": "5fb8a973",
   "metadata": {},
   "source": [
    "## Learinig rate expriences :\n",
    "Loss in millions:\n",
    "\n",
    "\n",
    "|   | GD_Loss | Mini_Batch_Loss | SGD_Loss |\n",
    "|----|--------|------------------|----|\n",
    "|*lr* = 1|33921.44| Nan | Nan |\n",
    "|**lr= 0.1**|814.93| 1.611667 | 1.806 |\n",
    "|*lr* = 0.01|2839.68| 142.18| 1.877 |\n",
    "|*lr* = 0.001|341.055| 796.71| 15928.24|\n",
    "|*lr* = 0.0001|919.76| 2542.98| 19389.372|\n",
    "\n",
    "\n",
    "\n",
    "for lr = 1 after some epochs loss become infinty\n"
   ]
  },
  {
   "cell_type": "markdown",
   "id": "f8857eb2",
   "metadata": {},
   "source": [
    "## Sklearn-model"
   ]
  },
  {
   "cell_type": "code",
   "execution_count": 338,
   "id": "d017bc36",
   "metadata": {},
   "outputs": [
    {
     "data": {
      "text/html": [
       "<div>\n",
       "<style scoped>\n",
       "    .dataframe tbody tr th:only-of-type {\n",
       "        vertical-align: middle;\n",
       "    }\n",
       "\n",
       "    .dataframe tbody tr th {\n",
       "        vertical-align: top;\n",
       "    }\n",
       "\n",
       "    .dataframe thead th {\n",
       "        text-align: right;\n",
       "    }\n",
       "</style>\n",
       "<table border=\"1\" class=\"dataframe\">\n",
       "  <thead>\n",
       "    <tr style=\"text-align: right;\">\n",
       "      <th></th>\n",
       "      <th>0</th>\n",
       "      <th>1</th>\n",
       "      <th>2</th>\n",
       "      <th>3</th>\n",
       "      <th>4</th>\n",
       "      <th>5</th>\n",
       "      <th>6</th>\n",
       "      <th>7</th>\n",
       "      <th>8</th>\n",
       "    </tr>\n",
       "  </thead>\n",
       "  <tbody>\n",
       "    <tr>\n",
       "      <th>0</th>\n",
       "      <td>1.0</td>\n",
       "      <td>0.396564</td>\n",
       "      <td>0.6</td>\n",
       "      <td>0.333333</td>\n",
       "      <td>0.666667</td>\n",
       "      <td>1.0</td>\n",
       "      <td>0.0</td>\n",
       "      <td>0.0</td>\n",
       "      <td>0.666667</td>\n",
       "    </tr>\n",
       "    <tr>\n",
       "      <th>1</th>\n",
       "      <td>1.0</td>\n",
       "      <td>0.502405</td>\n",
       "      <td>0.6</td>\n",
       "      <td>1.000000</td>\n",
       "      <td>1.000000</td>\n",
       "      <td>1.0</td>\n",
       "      <td>0.0</td>\n",
       "      <td>0.0</td>\n",
       "      <td>1.000000</td>\n",
       "    </tr>\n",
       "    <tr>\n",
       "      <th>2</th>\n",
       "      <td>1.0</td>\n",
       "      <td>0.571134</td>\n",
       "      <td>0.4</td>\n",
       "      <td>0.333333</td>\n",
       "      <td>0.333333</td>\n",
       "      <td>1.0</td>\n",
       "      <td>0.0</td>\n",
       "      <td>1.0</td>\n",
       "      <td>0.666667</td>\n",
       "    </tr>\n",
       "    <tr>\n",
       "      <th>3</th>\n",
       "      <td>1.0</td>\n",
       "      <td>0.402062</td>\n",
       "      <td>0.6</td>\n",
       "      <td>0.333333</td>\n",
       "      <td>0.333333</td>\n",
       "      <td>1.0</td>\n",
       "      <td>0.0</td>\n",
       "      <td>1.0</td>\n",
       "      <td>1.000000</td>\n",
       "    </tr>\n",
       "    <tr>\n",
       "      <th>4</th>\n",
       "      <td>1.0</td>\n",
       "      <td>0.396564</td>\n",
       "      <td>0.6</td>\n",
       "      <td>0.000000</td>\n",
       "      <td>0.333333</td>\n",
       "      <td>1.0</td>\n",
       "      <td>1.0</td>\n",
       "      <td>1.0</td>\n",
       "      <td>0.666667</td>\n",
       "    </tr>\n",
       "    <tr>\n",
       "      <th>...</th>\n",
       "      <td>...</td>\n",
       "      <td>...</td>\n",
       "      <td>...</td>\n",
       "      <td>...</td>\n",
       "      <td>...</td>\n",
       "      <td>...</td>\n",
       "      <td>...</td>\n",
       "      <td>...</td>\n",
       "      <td>...</td>\n",
       "    </tr>\n",
       "    <tr>\n",
       "      <th>540</th>\n",
       "      <td>1.0</td>\n",
       "      <td>0.092784</td>\n",
       "      <td>0.2</td>\n",
       "      <td>0.000000</td>\n",
       "      <td>0.000000</td>\n",
       "      <td>1.0</td>\n",
       "      <td>0.0</td>\n",
       "      <td>1.0</td>\n",
       "      <td>0.666667</td>\n",
       "    </tr>\n",
       "    <tr>\n",
       "      <th>541</th>\n",
       "      <td>1.0</td>\n",
       "      <td>0.051546</td>\n",
       "      <td>0.4</td>\n",
       "      <td>0.000000</td>\n",
       "      <td>0.000000</td>\n",
       "      <td>0.0</td>\n",
       "      <td>0.0</td>\n",
       "      <td>0.0</td>\n",
       "      <td>0.000000</td>\n",
       "    </tr>\n",
       "    <tr>\n",
       "      <th>542</th>\n",
       "      <td>1.0</td>\n",
       "      <td>0.135395</td>\n",
       "      <td>0.2</td>\n",
       "      <td>0.000000</td>\n",
       "      <td>0.000000</td>\n",
       "      <td>1.0</td>\n",
       "      <td>0.0</td>\n",
       "      <td>0.0</td>\n",
       "      <td>0.000000</td>\n",
       "    </tr>\n",
       "    <tr>\n",
       "      <th>543</th>\n",
       "      <td>1.0</td>\n",
       "      <td>0.086598</td>\n",
       "      <td>0.4</td>\n",
       "      <td>0.000000</td>\n",
       "      <td>0.000000</td>\n",
       "      <td>0.0</td>\n",
       "      <td>0.0</td>\n",
       "      <td>0.0</td>\n",
       "      <td>0.000000</td>\n",
       "    </tr>\n",
       "    <tr>\n",
       "      <th>544</th>\n",
       "      <td>1.0</td>\n",
       "      <td>0.151203</td>\n",
       "      <td>0.4</td>\n",
       "      <td>0.000000</td>\n",
       "      <td>0.333333</td>\n",
       "      <td>1.0</td>\n",
       "      <td>0.0</td>\n",
       "      <td>0.0</td>\n",
       "      <td>0.000000</td>\n",
       "    </tr>\n",
       "  </tbody>\n",
       "</table>\n",
       "<p>545 rows × 9 columns</p>\n",
       "</div>"
      ],
      "text/plain": [
       "       0         1    2         3         4    5    6    7         8\n",
       "0    1.0  0.396564  0.6  0.333333  0.666667  1.0  0.0  0.0  0.666667\n",
       "1    1.0  0.502405  0.6  1.000000  1.000000  1.0  0.0  0.0  1.000000\n",
       "2    1.0  0.571134  0.4  0.333333  0.333333  1.0  0.0  1.0  0.666667\n",
       "3    1.0  0.402062  0.6  0.333333  0.333333  1.0  0.0  1.0  1.000000\n",
       "4    1.0  0.396564  0.6  0.000000  0.333333  1.0  1.0  1.0  0.666667\n",
       "..   ...       ...  ...       ...       ...  ...  ...  ...       ...\n",
       "540  1.0  0.092784  0.2  0.000000  0.000000  1.0  0.0  1.0  0.666667\n",
       "541  1.0  0.051546  0.4  0.000000  0.000000  0.0  0.0  0.0  0.000000\n",
       "542  1.0  0.135395  0.2  0.000000  0.000000  1.0  0.0  0.0  0.000000\n",
       "543  1.0  0.086598  0.4  0.000000  0.000000  0.0  0.0  0.0  0.000000\n",
       "544  1.0  0.151203  0.4  0.000000  0.333333  1.0  0.0  0.0  0.000000\n",
       "\n",
       "[545 rows x 9 columns]"
      ]
     },
     "execution_count": 338,
     "metadata": {},
     "output_type": "execute_result"
    }
   ],
   "source": [
    "pd.DataFrame(tx) "
   ]
  },
  {
   "cell_type": "code",
   "execution_count": 339,
   "id": "66c82c48",
   "metadata": {},
   "outputs": [
    {
     "name": "stdout",
     "output_type": "stream",
     "text": [
      "CPU times: user 1.91 ms, sys: 27 µs, total: 1.93 ms\n",
      "Wall time: 655 µs\n"
     ]
    }
   ],
   "source": [
    "%%time \n",
    "from sklearn.linear_model import LinearRegression\n",
    "\n",
    "model = LinearRegression()\n",
    "\n",
    "model = model.fit(tx , y)\n"
   ]
  },
  {
   "cell_type": "markdown",
   "id": "651b3f48",
   "metadata": {},
   "source": [
    "\n",
    "* Sklearn algorithm is faster than Batch Gradient in terms of times and also more accurate."
   ]
  },
  {
   "cell_type": "code",
   "execution_count": 340,
   "id": "5a3b978c",
   "metadata": {},
   "outputs": [
    {
     "data": {
      "text/plain": [
       "((9,), (9,))"
      ]
     },
     "execution_count": 340,
     "metadata": {},
     "output_type": "execute_result"
    }
   ],
   "source": [
    "model.coef_.shape , best_w_GD.shape"
   ]
  },
  {
   "cell_type": "code",
   "execution_count": 341,
   "id": "e8eb236f",
   "metadata": {},
   "outputs": [
    {
     "data": {
      "text/html": [
       "<div>\n",
       "<style scoped>\n",
       "    .dataframe tbody tr th:only-of-type {\n",
       "        vertical-align: middle;\n",
       "    }\n",
       "\n",
       "    .dataframe tbody tr th {\n",
       "        vertical-align: top;\n",
       "    }\n",
       "\n",
       "    .dataframe thead th {\n",
       "        text-align: right;\n",
       "    }\n",
       "</style>\n",
       "<table border=\"1\" class=\"dataframe\">\n",
       "  <thead>\n",
       "    <tr style=\"text-align: right;\">\n",
       "      <th></th>\n",
       "      <th>w0</th>\n",
       "      <th>w1</th>\n",
       "      <th>w2</th>\n",
       "      <th>w3</th>\n",
       "      <th>w4</th>\n",
       "      <th>w5</th>\n",
       "      <th>w6</th>\n",
       "      <th>w7</th>\n",
       "      <th>w8</th>\n",
       "    </tr>\n",
       "  </thead>\n",
       "  <tbody>\n",
       "    <tr>\n",
       "      <th>Sklearn_Regression</th>\n",
       "      <td>0.000000</td>\n",
       "      <td>1.058329e+06</td>\n",
       "      <td>7335.465314</td>\n",
       "      <td>6009.898247</td>\n",
       "      <td>23696.834661</td>\n",
       "      <td>12600.405348</td>\n",
       "      <td>4788.321549</td>\n",
       "      <td>25992.290977</td>\n",
       "      <td>24652.778613</td>\n",
       "    </tr>\n",
       "    <tr>\n",
       "      <th>SGD</th>\n",
       "      <td>314256.776434</td>\n",
       "      <td>1.059625e+06</td>\n",
       "      <td>8040.903127</td>\n",
       "      <td>6446.461903</td>\n",
       "      <td>23831.081714</td>\n",
       "      <td>13881.638709</td>\n",
       "      <td>3567.836614</td>\n",
       "      <td>25433.794401</td>\n",
       "      <td>22491.873342</td>\n",
       "    </tr>\n",
       "    <tr>\n",
       "      <th>Mini_batch</th>\n",
       "      <td>316254.841822</td>\n",
       "      <td>1.058824e+06</td>\n",
       "      <td>8311.397729</td>\n",
       "      <td>6259.543418</td>\n",
       "      <td>23425.730108</td>\n",
       "      <td>12835.604901</td>\n",
       "      <td>4518.342640</td>\n",
       "      <td>26364.433746</td>\n",
       "      <td>24424.919394</td>\n",
       "    </tr>\n",
       "    <tr>\n",
       "      <th>GD</th>\n",
       "      <td>316695.022407</td>\n",
       "      <td>1.057021e+06</td>\n",
       "      <td>8276.105742</td>\n",
       "      <td>6083.205272</td>\n",
       "      <td>23447.105478</td>\n",
       "      <td>12798.337448</td>\n",
       "      <td>4855.904105</td>\n",
       "      <td>25921.496018</td>\n",
       "      <td>24823.147723</td>\n",
       "    </tr>\n",
       "  </tbody>\n",
       "</table>\n",
       "</div>"
      ],
      "text/plain": [
       "                               w0            w1           w2           w3  \\\n",
       "Sklearn_Regression       0.000000  1.058329e+06  7335.465314  6009.898247   \n",
       "SGD                 314256.776434  1.059625e+06  8040.903127  6446.461903   \n",
       "Mini_batch          316254.841822  1.058824e+06  8311.397729  6259.543418   \n",
       "GD                  316695.022407  1.057021e+06  8276.105742  6083.205272   \n",
       "\n",
       "                              w4            w5           w6            w7  \\\n",
       "Sklearn_Regression  23696.834661  12600.405348  4788.321549  25992.290977   \n",
       "SGD                 23831.081714  13881.638709  3567.836614  25433.794401   \n",
       "Mini_batch          23425.730108  12835.604901  4518.342640  26364.433746   \n",
       "GD                  23447.105478  12798.337448  4855.904105  25921.496018   \n",
       "\n",
       "                              w8  \n",
       "Sklearn_Regression  24652.778613  \n",
       "SGD                 22491.873342  \n",
       "Mini_batch          24424.919394  \n",
       "GD                  24823.147723  "
      ]
     },
     "execution_count": 341,
     "metadata": {},
     "output_type": "execute_result"
    }
   ],
   "source": [
    "compare_w_df = pd.DataFrame(np.c_[model.coef_ , best_w_SGD , best_w_MINI_GD , best_w_GD],\n",
    "             index=[f\"w{i}\" for i in range(9)],\n",
    "             columns=[\"Sklearn_Regression\" , \"SGD\" , \"Mini_batch\" , \"GD\"]).T\n",
    "\n",
    "compare_w_df"
   ]
  },
  {
   "cell_type": "markdown",
   "id": "174e56fb",
   "metadata": {},
   "source": [
    "The Second feature (`AREA`) is the most important feature in this problem "
   ]
  },
  {
   "cell_type": "code",
   "execution_count": 342,
   "id": "61fffc7a",
   "metadata": {},
   "outputs": [
    {
     "data": {
      "text/plain": [
       "<AxesSubplot: >"
      ]
     },
     "execution_count": 342,
     "metadata": {},
     "output_type": "execute_result"
    },
    {
     "data": {
      "image/png": "[encoded data removed]",
      "text/plain": [
       "<Figure size 640x480 with 1 Axes>"
      ]
     },
     "metadata": {},
     "output_type": "display_data"
    }
   ],
   "source": [
    "\n",
    "compare_w_df.plot(kind=\"bar\")"
   ]
  },
  {
   "cell_type": "code",
   "execution_count": 343,
   "id": "2f3cb922",
   "metadata": {},
   "outputs": [
    {
     "name": "stdout",
     "output_type": "stream",
     "text": [
      "The loss for sklearn model in linear regression : 1.6082448516397234 milions\n"
     ]
    }
   ],
   "source": [
    "reg_pred = model.predict(tx)\n",
    "reg_mse = 1/2 * np.mean(np.power((y - reg_pred),2)) / 10e6\n",
    "print(f\"The loss for sklearn model in linear regression : {reg_mse} milions\")"
   ]
  },
  {
   "cell_type": "markdown",
   "id": "d924a8c7",
   "metadata": {},
   "source": [
    "So we have almost same loss compare to `GD`"
   ]
  },
  {
   "cell_type": "markdown",
   "id": "85f3ca83",
   "metadata": {},
   "source": [
    "## Question 2 "
   ]
  },
  {
   "cell_type": "code",
   "execution_count": 344,
   "id": "2cca6bb1",
   "metadata": {},
   "outputs": [
    {
     "data": {
      "text/html": [
       "<div>\n",
       "<style scoped>\n",
       "    .dataframe tbody tr th:only-of-type {\n",
       "        vertical-align: middle;\n",
       "    }\n",
       "\n",
       "    .dataframe tbody tr th {\n",
       "        vertical-align: top;\n",
       "    }\n",
       "\n",
       "    .dataframe thead th {\n",
       "        text-align: right;\n",
       "    }\n",
       "</style>\n",
       "<table border=\"1\" class=\"dataframe\">\n",
       "  <thead>\n",
       "    <tr style=\"text-align: right;\">\n",
       "      <th></th>\n",
       "      <th>X</th>\n",
       "      <th>Y</th>\n",
       "    </tr>\n",
       "  </thead>\n",
       "  <tbody>\n",
       "    <tr>\n",
       "      <th>0</th>\n",
       "      <td>-0.994787</td>\n",
       "      <td>6.808710</td>\n",
       "    </tr>\n",
       "    <tr>\n",
       "      <th>1</th>\n",
       "      <td>-0.950996</td>\n",
       "      <td>6.460205</td>\n",
       "    </tr>\n",
       "    <tr>\n",
       "      <th>2</th>\n",
       "      <td>-0.919999</td>\n",
       "      <td>7.354000</td>\n",
       "    </tr>\n",
       "    <tr>\n",
       "      <th>3</th>\n",
       "      <td>-0.876221</td>\n",
       "      <td>7.420564</td>\n",
       "    </tr>\n",
       "    <tr>\n",
       "      <th>4</th>\n",
       "      <td>-0.838166</td>\n",
       "      <td>7.595328</td>\n",
       "    </tr>\n",
       "  </tbody>\n",
       "</table>\n",
       "</div>"
      ],
      "text/plain": [
       "          X         Y\n",
       "0 -0.994787  6.808710\n",
       "1 -0.950996  6.460205\n",
       "2 -0.919999  7.354000\n",
       "3 -0.876221  7.420564\n",
       "4 -0.838166  7.595328"
      ]
     },
     "execution_count": 344,
     "metadata": {},
     "output_type": "execute_result"
    }
   ],
   "source": [
    "# Let's visualize the data \n",
    "data = pd.read_csv(\"./data/Data.csv\")\n",
    "data.head()"
   ]
  },
  {
   "cell_type": "code",
   "execution_count": 345,
   "id": "c78a7c6c",
   "metadata": {},
   "outputs": [
    {
     "name": "stdout",
     "output_type": "stream",
     "text": [
      "<class 'pandas.core.frame.DataFrame'>\n",
      "RangeIndex: 50 entries, 0 to 49\n",
      "Data columns (total 2 columns):\n",
      " #   Column  Non-Null Count  Dtype  \n",
      "---  ------  --------------  -----  \n",
      " 0   X       50 non-null     float64\n",
      " 1   Y       50 non-null     float64\n",
      "dtypes: float64(2)\n",
      "memory usage: 928.0 bytes\n"
     ]
    }
   ],
   "source": [
    "data.info()"
   ]
  },
  {
   "cell_type": "markdown",
   "id": "5cd37c70",
   "metadata": {},
   "source": [
    "Lets take a glance to our data ..."
   ]
  },
  {
   "cell_type": "code",
   "execution_count": 346,
   "id": "3fb11d3b",
   "metadata": {},
   "outputs": [
    {
     "data": {
      "text/plain": [
       "<matplotlib.collections.PathCollection at 0x7fccd33e40a0>"
      ]
     },
     "execution_count": 346,
     "metadata": {},
     "output_type": "execute_result"
    },
    {
     "data": {
      "image/png": "[encoded data removed]",
      "text/plain": [
       "<Figure size 640x480 with 1 Axes>"
      ]
     },
     "metadata": {},
     "output_type": "display_data"
    }
   ],
   "source": [
    "plt.scatter(x=data['X'] , y=data['Y'])"
   ]
  },
  {
   "cell_type": "markdown",
   "id": "2eb902b8",
   "metadata": {},
   "source": [
    "### Split the dataset to train and test "
   ]
  },
  {
   "cell_type": "code",
   "execution_count": 347,
   "id": "eb93df1f",
   "metadata": {},
   "outputs": [
    {
     "data": {
      "text/plain": [
       "((40,), (40,), (10,), (10,))"
      ]
     },
     "execution_count": 347,
     "metadata": {},
     "output_type": "execute_result"
    }
   ],
   "source": [
    "from sklearn.model_selection import train_test_split\n",
    "\n",
    "x_train , x_test ,y_train, y_test = train_test_split(data['X'] ,data['Y'],random_state=10,test_size=0.2)\n",
    "x_train.shape  , y_train.shape , x_test.shape , y_test.shape"
   ]
  },
  {
   "cell_type": "markdown",
   "id": "451964ec",
   "metadata": {},
   "source": [
    "### Assign the `20%` of train data to validaton data"
   ]
  },
  {
   "cell_type": "code",
   "execution_count": 348,
   "id": "3ad93b7d",
   "metadata": {},
   "outputs": [
    {
     "data": {
      "text/plain": [
       "((32,), (8,), (32,), (8,))"
      ]
     },
     "execution_count": 348,
     "metadata": {},
     "output_type": "execute_result"
    }
   ],
   "source": [
    "x_train , x_valid , y_train , y_valid = train_test_split(x_train , y_train , random_state=10,test_size=0.2)\n",
    "\n",
    "x_train.shape , x_valid.shape , y_train.shape , y_valid.shape"
   ]
  },
  {
   "cell_type": "markdown",
   "id": "1355efc3",
   "metadata": {},
   "source": [
    "## Train linear model on the dataset"
   ]
  },
  {
   "cell_type": "code",
   "execution_count": 349,
   "id": "a0f7dc3c",
   "metadata": {},
   "outputs": [],
   "source": [
    "def estimate_weights (x , y , w ,lr=0.01 , epoch=10):\n",
    "    \"\"\"Estimate weights using Gradient Descent \n",
    "    x -> x is data without bias (this function add bias Automatically)\n",
    "    y -> y is our labels    \n",
    "    \"\"\"\n",
    "    tx = np.c_[np.ones(shape=(len(x),1)),x]\n",
    "    # print(tx.shape)\n",
    "    # tx = x\n",
    "    for _ in range(epoch):\n",
    "        grad = calculate_grad(tx,w,y)\n",
    "        w = w - lr*grad\n",
    "    loss  = compute_mse(tx,w,y)\n",
    "    return w  , loss"
   ]
  },
  {
   "cell_type": "code",
   "execution_count": 350,
   "id": "b940023b",
   "metadata": {},
   "outputs": [
    {
     "name": "stdout",
     "output_type": "stream",
     "text": [
      "CPU times: user 2 µs, sys: 0 ns, total: 2 µs\n",
      "Wall time: 2.62 µs\n",
      "weights : [ 4.03709897 -6.98266651] and the train loss 14.566\n"
     ]
    }
   ],
   "source": [
    "initial_w = np.random.randint(-15,15,2)\n",
    "lr = 0.001\n",
    "Epoch = 10\n",
    "%time\n",
    "weights_before_tuning , loss_before_tuning= estimate_weights(x_train,y_train,initial_w , lr,Epoch)\n",
    "print(f\"weights : {weights_before_tuning} and the train loss {loss_before_tuning}\")"
   ]
  },
  {
   "cell_type": "markdown",
   "id": "3e7fc52c",
   "metadata": {},
   "source": [
    "## visualization before hyper parameter tuning"
   ]
  },
  {
   "cell_type": "code",
   "execution_count": 351,
   "id": "4ab9d065",
   "metadata": {},
   "outputs": [],
   "source": [
    "def plot_Data(weights , x_train=x_train , y_train=y_train , x_test=x_test , y_test = y_test,degree=1):\n",
    "    \"\"\"\n",
    "    Use this function to plot your data and the model \n",
    "    weights : The weights for linear data \n",
    "    x_train : Train data \n",
    "    y_train : Train Label\n",
    "    x_test :  Test data\n",
    "    y_test :  Test label\n",
    "    degree :  The maximum degree that your features have.\n",
    "    \n",
    "    \"\"\"\n",
    "    plt.scatter(x_train,y_train , c=\"b\" , label=\"Train\")\n",
    "    plt.scatter(x_test,y_test,c=\"r\",label=\"test\")\n",
    "    x_plot = np.arange(-1 , 1.25 , 0.25)\n",
    "    y_plot = 0\n",
    "    for i in range(1,degree+1):\n",
    "        y_plot = y_plot +  np.power(x_plot,i) * weights[i]\n",
    "    y_plot = y_plot + weights[0] \n",
    "    plt.plot(x_plot,y_plot,c=\"black\",label=\"Model\")\n",
    "    plt.legend()"
   ]
  },
  {
   "cell_type": "code",
   "execution_count": 352,
   "id": "e8165789",
   "metadata": {},
   "outputs": [
    {
     "data": {
      "image/png": "[encoded data removed]",
      "text/plain": [
       "<Figure size 640x480 with 1 Axes>"
      ]
     },
     "metadata": {},
     "output_type": "display_data"
    }
   ],
   "source": [
    "plot_Data(weights_before_tuning)"
   ]
  },
  {
   "cell_type": "markdown",
   "id": "e8e992a4",
   "metadata": {},
   "source": [
    "## Hyper parameter tuning a = 0.01"
   ]
  },
  {
   "cell_type": "code",
   "execution_count": 353,
   "id": "6d49bb6b",
   "metadata": {},
   "outputs": [
    {
     "name": "stdout",
     "output_type": "stream",
     "text": [
      "weights : [ 4.64791346 -6.74834781] and the loss 17.5967\n"
     ]
    }
   ],
   "source": [
    "# initial_w = np.random.randint(-15,15,2)\n",
    "lr = 0.01\n",
    "weights_lr_001 , loss_lr_001= estimate_weights(x_valid,y_valid,weights_before_tuning , lr,Epoch)\n",
    "print(f\"weights : {weights_lr_001} and the loss {loss_lr_001}\")"
   ]
  },
  {
   "cell_type": "code",
   "execution_count": 354,
   "id": "2816765c",
   "metadata": {},
   "outputs": [
    {
     "data": {
      "image/png": "[encoded data removed]",
      "text/plain": [
       "<Figure size 640x480 with 1 Axes>"
      ]
     },
     "metadata": {},
     "output_type": "display_data"
    }
   ],
   "source": [
    "plot_Data(weights_lr_001)"
   ]
  },
  {
   "cell_type": "markdown",
   "id": "cc8d8977",
   "metadata": {},
   "source": [
    "## Hyper parameter tuning a = 0.1"
   ]
  },
  {
   "cell_type": "code",
   "execution_count": 355,
   "id": "d5e7dcfc",
   "metadata": {},
   "outputs": [
    {
     "name": "stdout",
     "output_type": "stream",
     "text": [
      "weights : [ 8.035748   -5.36812269] and the loss 2.3799\n"
     ]
    }
   ],
   "source": [
    "lr = 0.1\n",
    "weights_lr_01 , loss_lr_01= estimate_weights(x_valid,y_valid,weights_before_tuning , lr,Epoch)\n",
    "print(f\"weights : {weights_lr_01} and the loss {loss_lr_01}\")"
   ]
  },
  {
   "cell_type": "code",
   "execution_count": 356,
   "id": "5c1dc442",
   "metadata": {},
   "outputs": [
    {
     "data": {
      "image/png": "[encoded data removed]",
      "text/plain": [
       "<Figure size 640x480 with 1 Axes>"
      ]
     },
     "metadata": {},
     "output_type": "display_data"
    }
   ],
   "source": [
    "plot_Data(weights_lr_01)"
   ]
  },
  {
   "cell_type": "markdown",
   "id": "bfaf0177",
   "metadata": {},
   "source": [
    "## Hyper parameter tuning a = 1"
   ]
  },
  {
   "cell_type": "code",
   "execution_count": 357,
   "id": "7d2d20f8",
   "metadata": {},
   "outputs": [
    {
     "name": "stdout",
     "output_type": "stream",
     "text": [
      "weights : [ 9.54468511 -3.67824013] and the loss 0.1042\n"
     ]
    }
   ],
   "source": [
    "lr = 1\n",
    "weights_lr_1 , loss_lr_1= estimate_weights(x_valid,y_valid,weights_before_tuning , lr,Epoch)\n",
    "print(f\"weights : {weights_lr_1} and the loss {loss_lr_1}\")"
   ]
  },
  {
   "cell_type": "code",
   "execution_count": 358,
   "id": "0e632e10",
   "metadata": {},
   "outputs": [
    {
     "data": {
      "image/png": "[encoded data removed]",
      "text/plain": [
       "<Figure size 640x480 with 1 Axes>"
      ]
     },
     "metadata": {},
     "output_type": "display_data"
    }
   ],
   "source": [
    "plot_Data(weights_lr_1)"
   ]
  },
  {
   "cell_type": "code",
   "execution_count": 359,
   "id": "7b5b79a5",
   "metadata": {},
   "outputs": [
    {
     "data": {
      "text/plain": [
       "<AxesSubplot: >"
      ]
     },
     "execution_count": 359,
     "metadata": {},
     "output_type": "execute_result"
    },
    {
     "data": {
      "image/png": "[encoded data removed]",
      "text/plain": [
       "<Figure size 640x480 with 1 Axes>"
      ]
     },
     "metadata": {},
     "output_type": "display_data"
    }
   ],
   "source": [
    "pd.DataFrame([ loss_before_tuning,loss_lr_001 , loss_lr_01 , loss_lr_1 ],columns=[\"Loss\"] , index=[\"lr=0.001\",\"lr=0.01\",\"lr=0.1\",\"lr=1\"]).plot(kind=\"bar\")"
   ]
  },
  {
   "cell_type": "markdown",
   "id": "4bf0053a",
   "metadata": {},
   "source": [
    "> This series of expriment show that the best learning rate for this model is `lr=1` with loss `0.148`, our data can not be fitted with the linear regression but that was a acceptable loss for linear regression.\n",
    "\n",
    "\n",
    "so lets measure loss for test data :"
   ]
  },
  {
   "cell_type": "markdown",
   "id": "6c6ac07f",
   "metadata": {},
   "source": [
    "## Test loss for best model "
   ]
  },
  {
   "cell_type": "code",
   "execution_count": 360,
   "id": "7258774b",
   "metadata": {},
   "outputs": [
    {
     "name": "stdout",
     "output_type": "stream",
     "text": [
      "This is test loss 3.2647\n"
     ]
    }
   ],
   "source": [
    "test_loss_lr_1 = compute_mse(np.c_[np.ones(shape=(len(x_test),1)),x_test],weights_lr_1,y_test)\n",
    "print(f\"This is test loss {test_loss_lr_1}\")"
   ]
  },
  {
   "cell_type": "markdown",
   "id": "48c7d3bc",
   "metadata": {},
   "source": [
    "Because our test data is smaller than our train data the amount of `2.48` is a reasonable number for loss."
   ]
  },
  {
   "cell_type": "markdown",
   "id": "4d2a93d2",
   "metadata": {},
   "source": [
    "## Least_square "
   ]
  },
  {
   "cell_type": "code",
   "execution_count": 361,
   "id": "d7c8ab17",
   "metadata": {},
   "outputs": [],
   "source": [
    "def find_least_square(x,y):\n",
    "    tx = make_ones(x,(len(y)))\n",
    "    term_1 = tx.T.dot(tx)\n",
    "    term_2 = tx.T.dot(y)\n",
    "\n",
    "    optimal_weights = np.linalg.inv(term_1).dot(term_2)\n",
    "\n",
    "    loss = compute_mse(tx,optimal_weights,y)\n",
    "\n",
    "    return optimal_weights , loss"
   ]
  },
  {
   "cell_type": "code",
   "execution_count": 362,
   "id": "a5c84f47",
   "metadata": {},
   "outputs": [
    {
     "name": "stdout",
     "output_type": "stream",
     "text": [
      "CPU times: user 1e+03 ns, sys: 0 ns, total: 1e+03 ns\n",
      "Wall time: 2.86 µs\n",
      "weights : [ 8.42146732 -0.36828046] and the Train loss 0.7465 and Test loss 0.6854\n"
     ]
    }
   ],
   "source": [
    "%time\n",
    "weights_Ls , loss_Ls = find_least_square(x_train,y_train)\n",
    "test_loss_ls = compute_mse(np.c_[np.ones(shape=(len(x_test),1)),x_test],weights_Ls,y_test)\n",
    "print(f\"weights : {weights_Ls} and the Train loss {loss_Ls} and Test loss {test_loss_ls}\")"
   ]
  },
  {
   "cell_type": "code",
   "execution_count": 363,
   "id": "d40d138a",
   "metadata": {},
   "outputs": [
    {
     "data": {
      "image/png": "[encoded data removed]",
      "text/plain": [
       "<Figure size 640x480 with 1 Axes>"
      ]
     },
     "metadata": {},
     "output_type": "display_data"
    }
   ],
   "source": [
    "plot_Data(weights_Ls)"
   ]
  },
  {
   "cell_type": "markdown",
   "id": "3adb5f68",
   "metadata": {},
   "source": [
    "Least Squares Method:\n",
    "* Accuracy: The least squares method aims to minimize the sum of squared differences between the predicted values and actual values. It provides an exact solution to the linear regression problem, resulting in high accuracy.\n",
    "\n",
    "* Speed of Convergence: The speed of convergence in the least squares method is generally fast. It directly computes the optimal solution without requiring iterative updates. However, for large datasets, the computational complexity can be high .The compelexity of least square : `O(n^3 + (n^2)*m)` .\n",
    "\n",
    "In this expriment it 's took `3.34e06` second to converge .\n",
    "\n",
    "Gradient Descent:\n",
    "* Accuracy: Gradient descent is an iterative optimization algorithm that aims to find the optimal solution by iteratively updating the model parameters. It can achieve high accuracy depending on the number of iterations and the learning rate chosen.\n",
    "\n",
    "* Speed : The speed of convergence in gradient descent depends on various factors such as the learning rate, the choice of optimization algorithm (e.g., batch, stochastic, mini-batch), and the convergence criteria.\n",
    "The compelexity of Gradient descent `O(mn)` and in this expriment it took `3.1e06` second to converge . \n",
    "\n",
    "`GD` is faster in both theory and practical . (This is a not a big dataset so the diffrence is so close)"
   ]
  },
  {
   "cell_type": "code",
   "execution_count": 364,
   "id": "238ccf90",
   "metadata": {},
   "outputs": [],
   "source": [
    "from sklearn.preprocessing import PolynomialFeatures"
   ]
  },
  {
   "cell_type": "code",
   "execution_count": 365,
   "id": "54a1ff58",
   "metadata": {},
   "outputs": [],
   "source": [
    "def make_poly(x,degree,include_bias=False):\n",
    "    \"\"\"\n",
    "    Use this funciton to make polynomial features of your data \n",
    "    \"\"\"\n",
    "    poly = PolynomialFeatures(degree,include_bias=include_bias)\n",
    "    x_poly = poly.fit_transform(np.asarray(x).reshape(-1,1))\n",
    "    # print(poly.get_feature_names_out())\n",
    "    return x_poly"
   ]
  },
  {
   "cell_type": "code",
   "execution_count": 366,
   "id": "088ead8c",
   "metadata": {},
   "outputs": [
    {
     "data": {
      "image/png": "[encoded data removed]",
      "text/plain": [
       "<Figure size 1500x1200 with 6 Axes>"
      ]
     },
     "metadata": {},
     "output_type": "display_data"
    }
   ],
   "source": [
    "# Define powers \n",
    "powers = [5,7,9,11,13,15]\n",
    "plt.figure(figsize=(15,12))\n",
    "# Define hyperparameters\n",
    "Epoch = 10\n",
    "lr = 0.455999\n",
    "# save weights 13 , 15 to compare with other Lasso & Ridge\n",
    "weights_13_15 = []\n",
    "for i , poly in enumerate(powers):\n",
    "    plt.subplot(2,3,i+1)\n",
    "    # Make polynomial Features\n",
    "    tx_train = make_poly(x_train,poly)\n",
    "    tx_test = make_poly(x_test,poly)\n",
    "    # chose initial w \n",
    "    initial_w = np.random.randint(-1,1,(tx_train.shape[1]+1,))\n",
    "    # Estimate weights using GD\n",
    "    poly_weights , _ = estimate_weights(tx_train,y_train,initial_w,lr=lr , epoch=Epoch)\n",
    "    if(poly in [15,13]):\n",
    "        weights_13_15.append(poly_weights)\n",
    "    #compute train and test loss \n",
    "    Train_loss = compute_mse(make_ones(tx_train,shape=(len(tx_train),1)),poly_weights,y_train)\n",
    "    Test_loss = compute_mse(make_ones(tx_test,shape=(len(tx_test),1)),poly_weights,y_test)\n",
    "    plt.title(f\"Degree {poly}\\nTrain Loss : {Train_loss}\\nTest Loss : {Test_loss}\")\n",
    "    plot_Data(poly_weights,degree=poly)\n"
   ]
  },
  {
   "cell_type": "markdown",
   "id": "25fc66a7",
   "metadata": {},
   "source": [
    "While we construct more features our model can better represent the data and if we continue training  our loss going to zero . \n",
    "\n",
    "with same learning rate , the model with more efficient features faster ( Less Epoch ) reach the minimum loss . \n",
    "\n",
    "In `degree 13` to `degree 15` we can see a little increase in our loss this can show that the new features have negetive impact to our model accuracy. \n"
   ]
  },
  {
   "cell_type": "markdown",
   "id": "f9e54006",
   "metadata": {},
   "source": [
    "## Close form solution for Ridge regression"
   ]
  },
  {
   "attachments": {
    "image.png": {
     "image/png": "[encoded data removed]"
    }
   },
   "cell_type": "markdown",
   "id": "cce6e5a4",
   "metadata": {},
   "source": [
    "![./image.png](attachment:image.png)"
   ]
  },
  {
   "cell_type": "code",
   "execution_count": 367,
   "id": "bc72ec93",
   "metadata": {},
   "outputs": [],
   "source": [
    "def least_squre_Ridge_regression(x,y,_lambda=0.1):\n",
    "    \"\"\"This function implement the close form solution for Ridge regression \"\"\"\n",
    "    tx = make_ones(x,(len(y)))\n",
    "    term_1 = tx.T.dot(tx)\n",
    "    term_2 = tx.T.dot(y)\n",
    "    term_1 = term_1 + _lambda * np.identity(len(term_1))\n",
    "    optimal_weights = np.linalg.inv(term_1).dot(term_2)\n",
    "\n",
    "    loss = compute_mse(tx,optimal_weights,y)\n",
    "\n",
    "    return optimal_weights , loss"
   ]
  },
  {
   "cell_type": "code",
   "execution_count": 368,
   "id": "b9053c01",
   "metadata": {},
   "outputs": [
    {
     "name": "stdout",
     "output_type": "stream",
     "text": [
      "Loss with 13 features 0.0491 \n",
      "Loss with 15 features 0.049\n"
     ]
    }
   ],
   "source": [
    "x_13 = make_poly(x_train,13)\n",
    "weights_13 , loss_13_train = least_squre_Ridge_regression(x_13,y_train)\n",
    "x_13_test = make_poly(x_test,13)\n",
    "loss_13_test = compute_mse(make_ones(x_13_test,shape=(len(x_13_test),1)),weights_13,y_test)\n",
    "x_15 = make_poly(x_train,15)\n",
    "weights_15 , loss_15_train = least_squre_Ridge_regression(x_15,y_train)\n",
    "x_15_test = make_poly(x_test,15)\n",
    "loss_15_test = compute_mse(make_ones(x_15_test,shape=(len(x_15_test),1)),weights_15,y_test)\n",
    "print(f\"Loss with 13 features {loss_13_train} \\nLoss with 15 features {loss_15_train}\")"
   ]
  },
  {
   "cell_type": "code",
   "execution_count": 369,
   "id": "6347bb6e",
   "metadata": {},
   "outputs": [
    {
     "data": {
      "image/png": "[encoded data removed]",
      "text/plain": [
       "<Figure size 640x480 with 2 Axes>"
      ]
     },
     "metadata": {},
     "output_type": "display_data"
    }
   ],
   "source": [
    "plt.subplot(1,2,1)\n",
    "plt.title(f\"Degree 13 \\nTrain Loss : {loss_13_train}\\nTest Loss : {loss_13_train}\")\n",
    "plot_Data(weights_13,degree=13)\n",
    "plt.subplot(1,2,2)\n",
    "plt.title(f\"Degree 15 \\nLoss : {loss_15_train}\\nTest Loss : {loss_15_train}\")\n",
    "plot_Data(weights_15,degree=15)\n"
   ]
  },
  {
   "cell_type": "markdown",
   "id": "fa14525c",
   "metadata": {},
   "source": [
    "with close from solution and polynomial Features we make awsome prediction ! \n"
   ]
  },
  {
   "cell_type": "markdown",
   "id": "5702fc21",
   "metadata": {},
   "source": [
    "## Lasso Regression"
   ]
  },
  {
   "cell_type": "code",
   "execution_count": 370,
   "id": "9a290d13",
   "metadata": {},
   "outputs": [],
   "source": [
    "from sklearn.linear_model import Lasso\n",
    "\n",
    "model_13 = Lasso(alpha=0.1)\n",
    "\n",
    "model_13.fit(make_ones(x_13,len(x_13)),y_train)\n",
    "\n",
    "model_weights_13 = model_13.coef_\n",
    "\n",
    "model_15 = Lasso(alpha=0.1)\n",
    "\n",
    "model_15.fit(make_ones(x_15,len(x_15)),y_train)\n",
    "\n",
    "model_weights_15 = model_15.coef_\n",
    "\n"
   ]
  },
  {
   "cell_type": "code",
   "execution_count": 371,
   "id": "5e8b92fb",
   "metadata": {},
   "outputs": [
    {
     "name": "stdout",
     "output_type": "stream",
     "text": [
      "Lasso weights_15:\n",
      "[ 0.         -0.41749373 -2.79099355 -0.         -0.         -0.\n",
      " -0.         -0.         -0.         -0.         -0.         -0.\n",
      " -0.          0.         -0.          0.        ] \n",
      "Lasso weights_13:\n",
      "[ 0.         -0.41749373 -2.79099355 -0.         -0.         -0.\n",
      " -0.         -0.         -0.         -0.         -0.         -0.\n",
      " -0.          0.        ] \n",
      "Ridge_regression_15:\n",
      "[ 9.56278374e+00 -8.30707624e-01 -2.95706900e+00 -1.12898975e-01\n",
      " -1.45771196e+00 -4.37924744e-02 -3.99962159e-01  8.14733083e-03\n",
      "  8.85537810e-02  4.70905042e-02  2.94542994e-01  6.24693075e-02\n",
      "  3.75125090e-01  5.60714808e-02  4.02685849e-01  3.33284035e-02] \n",
      "Ridge_regression_13:\n",
      "[ 9.56472830e+00 -8.36396899e-01 -2.97936669e+00 -9.47005375e-02\n",
      " -1.45742579e+00 -2.25156392e-02 -3.61830478e-01  1.65494567e-02\n",
      "  1.59437173e-01  3.71226682e-02  3.90335866e-01  3.34349613e-02\n",
      "  4.89143703e-01  9.17057482e-03] \n",
      "GD weights_15:\n",
      "[ 8.54820672 -0.65471242  0.3574662   0.47012693 -0.6610163   0.46978735\n",
      " -0.93328251 -0.5589038  -0.03565662 -0.59353443 -1.08402967 -0.62674142\n",
      " -1.11064325  0.34344943 -0.12671734 -0.68274742]\n",
      "GD weights_13 :\n",
      "[ 8.49047555 -0.3000323  -0.15263757 -0.16728821 -0.18549303 -0.19100817\n",
      " -0.42135535 -0.24239273 -0.48264     0.70396854 -0.49364281 -0.34498882\n",
      " -0.48784942 -0.38804975]\n"
     ]
    }
   ],
   "source": [
    "print(f\"Lasso weights_15:\\n{model_weights_15} \\nLasso weights_13:\\n{model_weights_13} \\nRidge_regression_15:\\n{weights_15} \\nRidge_regression_13:\\n{weights_13} \\nGD weights_15:\\n{weights_13_15[1]}\\nGD weights_13 :\\n{weights_13_15[0]}\")"
   ]
  },
  {
   "cell_type": "code",
   "execution_count": 372,
   "id": "a45f1c80",
   "metadata": {},
   "outputs": [
    {
     "data": {
      "text/plain": [
       "<matplotlib.legend.Legend at 0x7fcce351fd90>"
      ]
     },
     "execution_count": 372,
     "metadata": {},
     "output_type": "execute_result"
    },
    {
     "data": {
      "image/png": "[encoded data removed]",
      "text/plain": [
       "<Figure size 640x480 with 1 Axes>"
      ]
     },
     "metadata": {},
     "output_type": "display_data"
    }
   ],
   "source": [
    "df_13 = pd.DataFrame({\"Lasso_weights_15\" : model_weights_15 , \n",
    "                      \"Ridge_regression_15\":weights_15 , \n",
    "                      \"GD weights_15\":weights_13_15[1]},index=[f\"w{i}\" for i in range(16)]).T.plot(kind=\"bar\")\n",
    "plt.legend(bbox_to_anchor=(1.15, 1.15))"
   ]
  },
  {
   "cell_type": "markdown",
   "id": "91c7dc0b",
   "metadata": {},
   "source": [
    "Lasso regresion eliminate features that have close corellation , Ridge regression use them but with very little impact  in other words :\n",
    "Lasso regression, with its L1 penalty term, is more likely to decrease the weights significantly and eliminate some features, while Ridge regression, with its L2 penalty term, generally just reduces the magnitudes of the coefficients without eliminating any entirely."
   ]
  },
  {
   "cell_type": "markdown",
   "id": "1fe450d0",
   "metadata": {},
   "source": []
  }
 ],
 "metadata": {
  "kernelspec": {
   "display_name": "Python 3 (ipykernel)",
   "language": "python",
   "name": "python3"
  },
  "language_info": {
   "codemirror_mode": {
    "name": "ipython",
    "version": 3
   },
   "file_extension": ".py",
   "mimetype": "text/x-python",
   "name": "python",
   "nbconvert_exporter": "python",
   "pygments_lexer": "ipython3",
   "version": "3.9.12"
  }
 },
 "nbformat": 4,
 "nbformat_minor": 5
}
